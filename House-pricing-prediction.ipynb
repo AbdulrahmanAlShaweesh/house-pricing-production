{
 "cells": [
  {
   "cell_type": "markdown",
   "id": "9d963bd3",
   "metadata": {},
   "source": [
    "## Importing Models\n",
    "* Numpy \n",
    "* Pandas \n",
    "* Matplotlib \n",
    "* Seaborn \n",
    "* Sklearn (linear regration, train-split-test, etc...)"
   ]
  },
  {
   "cell_type": "code",
   "execution_count": 63,
   "id": "3fef4df8",
   "metadata": {},
   "outputs": [],
   "source": [
    "import numpy as np                   # to work with all numerical data\n",
    "import pandas as pd                  # to work and deal with data frame \n",
    "import matplotlib.pyplot as plt      # to work with plotting \n",
    "import seaborn as sns                # to work with plotting \n",
    "import os                            # to get all path of the operating system\n",
    "import warnings                      # to remove any errors. \n",
    "# ------------------------------------------------------------------------------- #\n",
    "# Now we can import all the pluge in that need \n",
    "# to work with all the projet using machine learning\n",
    "# algorithms  \n",
    "from sklearn.model_selection import train_test_split\n",
    "from sklearn.linear_model import LinearRegression \n",
    "from sklearn.preprocessing import StandardScaler \n",
    "from sklearn.preprocessing import LabelEncoder \n",
    "from sklearn.preprocessing import OneHotEncoder \n",
    "from sklearn.pipeline import Pipeline, FeatureUnion \n",
    "from sklearn.impute import SimpleImputer \n",
    "from sklearn_features.transformers import DataFrameSelector \n",
    "from sklearn.metrics import accuracy_score, r2_score"
   ]
  },
  {
   "cell_type": "code",
   "execution_count": 59,
   "id": "2092bb9c",
   "metadata": {},
   "outputs": [],
   "source": [
    "warnings.filterwarnings('ignore')\n",
    "%matplotlib inline"
   ]
  },
  {
   "cell_type": "markdown",
   "id": "a8fddbb5",
   "metadata": {},
   "source": [
    "## Loading the data set and have an overview for the data"
   ]
  },
  {
   "cell_type": "code",
   "execution_count": 60,
   "id": "bb4baf72",
   "metadata": {},
   "outputs": [],
   "source": [
    "house_pricing_df = pd.read_csv(\"housing.csv\")   # Read the dataset from csv file "
   ]
  },
  {
   "cell_type": "code",
   "execution_count": 61,
   "id": "0967c108",
   "metadata": {},
   "outputs": [
    {
     "data": {
      "text/html": [
       "<div>\n",
       "<style scoped>\n",
       "    .dataframe tbody tr th:only-of-type {\n",
       "        vertical-align: middle;\n",
       "    }\n",
       "\n",
       "    .dataframe tbody tr th {\n",
       "        vertical-align: top;\n",
       "    }\n",
       "\n",
       "    .dataframe thead th {\n",
       "        text-align: right;\n",
       "    }\n",
       "</style>\n",
       "<table border=\"1\" class=\"dataframe\">\n",
       "  <thead>\n",
       "    <tr style=\"text-align: right;\">\n",
       "      <th></th>\n",
       "      <th>longitude</th>\n",
       "      <th>latitude</th>\n",
       "      <th>housing_median_age</th>\n",
       "      <th>total_rooms</th>\n",
       "      <th>total_bedrooms</th>\n",
       "      <th>population</th>\n",
       "      <th>households</th>\n",
       "      <th>median_income</th>\n",
       "      <th>median_house_value</th>\n",
       "      <th>ocean_proximity</th>\n",
       "    </tr>\n",
       "  </thead>\n",
       "  <tbody>\n",
       "    <tr>\n",
       "      <th>0</th>\n",
       "      <td>-122.23</td>\n",
       "      <td>37.88</td>\n",
       "      <td>41.0</td>\n",
       "      <td>880.0</td>\n",
       "      <td>129.0</td>\n",
       "      <td>322.0</td>\n",
       "      <td>126.0</td>\n",
       "      <td>8.3252</td>\n",
       "      <td>452600.0</td>\n",
       "      <td>NEAR BAY</td>\n",
       "    </tr>\n",
       "    <tr>\n",
       "      <th>1</th>\n",
       "      <td>-122.22</td>\n",
       "      <td>37.86</td>\n",
       "      <td>21.0</td>\n",
       "      <td>7099.0</td>\n",
       "      <td>1106.0</td>\n",
       "      <td>2401.0</td>\n",
       "      <td>1138.0</td>\n",
       "      <td>8.3014</td>\n",
       "      <td>358500.0</td>\n",
       "      <td>NEAR BAY</td>\n",
       "    </tr>\n",
       "    <tr>\n",
       "      <th>2</th>\n",
       "      <td>-122.24</td>\n",
       "      <td>37.85</td>\n",
       "      <td>52.0</td>\n",
       "      <td>1467.0</td>\n",
       "      <td>190.0</td>\n",
       "      <td>496.0</td>\n",
       "      <td>177.0</td>\n",
       "      <td>7.2574</td>\n",
       "      <td>352100.0</td>\n",
       "      <td>NEAR BAY</td>\n",
       "    </tr>\n",
       "    <tr>\n",
       "      <th>3</th>\n",
       "      <td>-122.25</td>\n",
       "      <td>37.85</td>\n",
       "      <td>52.0</td>\n",
       "      <td>1274.0</td>\n",
       "      <td>235.0</td>\n",
       "      <td>558.0</td>\n",
       "      <td>219.0</td>\n",
       "      <td>5.6431</td>\n",
       "      <td>341300.0</td>\n",
       "      <td>NEAR BAY</td>\n",
       "    </tr>\n",
       "    <tr>\n",
       "      <th>4</th>\n",
       "      <td>-122.25</td>\n",
       "      <td>37.85</td>\n",
       "      <td>52.0</td>\n",
       "      <td>1627.0</td>\n",
       "      <td>280.0</td>\n",
       "      <td>565.0</td>\n",
       "      <td>259.0</td>\n",
       "      <td>3.8462</td>\n",
       "      <td>342200.0</td>\n",
       "      <td>NEAR BAY</td>\n",
       "    </tr>\n",
       "  </tbody>\n",
       "</table>\n",
       "</div>"
      ],
      "text/plain": [
       "   longitude  latitude  housing_median_age  total_rooms  total_bedrooms  \\\n",
       "0    -122.23     37.88                41.0        880.0           129.0   \n",
       "1    -122.22     37.86                21.0       7099.0          1106.0   \n",
       "2    -122.24     37.85                52.0       1467.0           190.0   \n",
       "3    -122.25     37.85                52.0       1274.0           235.0   \n",
       "4    -122.25     37.85                52.0       1627.0           280.0   \n",
       "\n",
       "   population  households  median_income  median_house_value ocean_proximity  \n",
       "0       322.0       126.0         8.3252            452600.0        NEAR BAY  \n",
       "1      2401.0      1138.0         8.3014            358500.0        NEAR BAY  \n",
       "2       496.0       177.0         7.2574            352100.0        NEAR BAY  \n",
       "3       558.0       219.0         5.6431            341300.0        NEAR BAY  \n",
       "4       565.0       259.0         3.8462            342200.0        NEAR BAY  "
      ]
     },
     "execution_count": 61,
     "metadata": {},
     "output_type": "execute_result"
    }
   ],
   "source": [
    "first5_rows = house_pricing_df.head(n=5)        # show the first 5 rows in the dataFrame\n",
    "first5_rows"
   ]
  },
  {
   "cell_type": "code",
   "execution_count": 20,
   "id": "3e00be54",
   "metadata": {},
   "outputs": [
    {
     "data": {
      "text/html": [
       "<div>\n",
       "<style scoped>\n",
       "    .dataframe tbody tr th:only-of-type {\n",
       "        vertical-align: middle;\n",
       "    }\n",
       "\n",
       "    .dataframe tbody tr th {\n",
       "        vertical-align: top;\n",
       "    }\n",
       "\n",
       "    .dataframe thead th {\n",
       "        text-align: right;\n",
       "    }\n",
       "</style>\n",
       "<table border=\"1\" class=\"dataframe\">\n",
       "  <thead>\n",
       "    <tr style=\"text-align: right;\">\n",
       "      <th></th>\n",
       "      <th>longitude</th>\n",
       "      <th>latitude</th>\n",
       "      <th>housing_median_age</th>\n",
       "      <th>total_rooms</th>\n",
       "      <th>total_bedrooms</th>\n",
       "      <th>population</th>\n",
       "      <th>households</th>\n",
       "      <th>median_income</th>\n",
       "      <th>median_house_value</th>\n",
       "      <th>ocean_proximity</th>\n",
       "    </tr>\n",
       "  </thead>\n",
       "  <tbody>\n",
       "    <tr>\n",
       "      <th>20635</th>\n",
       "      <td>-121.09</td>\n",
       "      <td>39.48</td>\n",
       "      <td>25.0</td>\n",
       "      <td>1665.0</td>\n",
       "      <td>374.0</td>\n",
       "      <td>845.0</td>\n",
       "      <td>330.0</td>\n",
       "      <td>1.5603</td>\n",
       "      <td>78100.0</td>\n",
       "      <td>INLAND</td>\n",
       "    </tr>\n",
       "    <tr>\n",
       "      <th>20636</th>\n",
       "      <td>-121.21</td>\n",
       "      <td>39.49</td>\n",
       "      <td>18.0</td>\n",
       "      <td>697.0</td>\n",
       "      <td>150.0</td>\n",
       "      <td>356.0</td>\n",
       "      <td>114.0</td>\n",
       "      <td>2.5568</td>\n",
       "      <td>77100.0</td>\n",
       "      <td>INLAND</td>\n",
       "    </tr>\n",
       "    <tr>\n",
       "      <th>20637</th>\n",
       "      <td>-121.22</td>\n",
       "      <td>39.43</td>\n",
       "      <td>17.0</td>\n",
       "      <td>2254.0</td>\n",
       "      <td>485.0</td>\n",
       "      <td>1007.0</td>\n",
       "      <td>433.0</td>\n",
       "      <td>1.7000</td>\n",
       "      <td>92300.0</td>\n",
       "      <td>INLAND</td>\n",
       "    </tr>\n",
       "    <tr>\n",
       "      <th>20638</th>\n",
       "      <td>-121.32</td>\n",
       "      <td>39.43</td>\n",
       "      <td>18.0</td>\n",
       "      <td>1860.0</td>\n",
       "      <td>409.0</td>\n",
       "      <td>741.0</td>\n",
       "      <td>349.0</td>\n",
       "      <td>1.8672</td>\n",
       "      <td>84700.0</td>\n",
       "      <td>INLAND</td>\n",
       "    </tr>\n",
       "    <tr>\n",
       "      <th>20639</th>\n",
       "      <td>-121.24</td>\n",
       "      <td>39.37</td>\n",
       "      <td>16.0</td>\n",
       "      <td>2785.0</td>\n",
       "      <td>616.0</td>\n",
       "      <td>1387.0</td>\n",
       "      <td>530.0</td>\n",
       "      <td>2.3886</td>\n",
       "      <td>89400.0</td>\n",
       "      <td>INLAND</td>\n",
       "    </tr>\n",
       "  </tbody>\n",
       "</table>\n",
       "</div>"
      ],
      "text/plain": [
       "       longitude  latitude  housing_median_age  total_rooms  total_bedrooms  \\\n",
       "20635    -121.09     39.48                25.0       1665.0           374.0   \n",
       "20636    -121.21     39.49                18.0        697.0           150.0   \n",
       "20637    -121.22     39.43                17.0       2254.0           485.0   \n",
       "20638    -121.32     39.43                18.0       1860.0           409.0   \n",
       "20639    -121.24     39.37                16.0       2785.0           616.0   \n",
       "\n",
       "       population  households  median_income  median_house_value  \\\n",
       "20635       845.0       330.0         1.5603             78100.0   \n",
       "20636       356.0       114.0         2.5568             77100.0   \n",
       "20637      1007.0       433.0         1.7000             92300.0   \n",
       "20638       741.0       349.0         1.8672             84700.0   \n",
       "20639      1387.0       530.0         2.3886             89400.0   \n",
       "\n",
       "      ocean_proximity  \n",
       "20635          INLAND  \n",
       "20636          INLAND  \n",
       "20637          INLAND  \n",
       "20638          INLAND  \n",
       "20639          INLAND  "
      ]
     },
     "execution_count": 20,
     "metadata": {},
     "output_type": "execute_result"
    }
   ],
   "source": [
    "last5_rows = house_pricing_df.tail(n=5)         # show the last 5 rows\n",
    "last5_rows"
   ]
  },
  {
   "cell_type": "code",
   "execution_count": 22,
   "id": "c5ceba84",
   "metadata": {},
   "outputs": [],
   "source": [
    "# allow to show up to 10 rows in a single cell\n",
    "pd.options.display.min_rows = 10 "
   ]
  },
  {
   "cell_type": "code",
   "execution_count": 47,
   "id": "4ff80181",
   "metadata": {},
   "outputs": [
    {
     "data": {
      "text/html": [
       "<style type=\"text/css\">\n",
       "#T_a6d28_row0_col0 {\n",
       "  background-color: #cb181d;\n",
       "  color: #f1f1f1;\n",
       "}\n",
       "#T_a6d28_row0_col1, #T_a6d28_row0_col7, #T_a6d28_row0_col8, #T_a6d28_row1_col0, #T_a6d28_row1_col3, #T_a6d28_row1_col4, #T_a6d28_row1_col5, #T_a6d28_row1_col6, #T_a6d28_row1_col7, #T_a6d28_row2_col2, #T_a6d28_row3_col2, #T_a6d28_row4_col2, #T_a6d28_row5_col2, #T_a6d28_row6_col2, #T_a6d28_row7_col2, #T_a6d28_row9_col2 {\n",
       "  background-color: #67000d;\n",
       "  color: #f1f1f1;\n",
       "}\n",
       "#T_a6d28_row0_col2 {\n",
       "  background-color: #e93529;\n",
       "  color: #f1f1f1;\n",
       "}\n",
       "#T_a6d28_row0_col3, #T_a6d28_row0_col4, #T_a6d28_row0_col5, #T_a6d28_row0_col6, #T_a6d28_row1_col2, #T_a6d28_row6_col1, #T_a6d28_row7_col1, #T_a6d28_row8_col0, #T_a6d28_row8_col1, #T_a6d28_row8_col7, #T_a6d28_row8_col8, #T_a6d28_row9_col1 {\n",
       "  background-color: #fff5f0;\n",
       "  color: #000000;\n",
       "}\n",
       "#T_a6d28_row1_col1 {\n",
       "  background-color: #fb6b4b;\n",
       "  color: #f1f1f1;\n",
       "}\n",
       "#T_a6d28_row1_col8 {\n",
       "  background-color: #f34a36;\n",
       "  color: #f1f1f1;\n",
       "}\n",
       "#T_a6d28_row2_col0 {\n",
       "  background-color: #fb694a;\n",
       "  color: #f1f1f1;\n",
       "}\n",
       "#T_a6d28_row2_col1, #T_a6d28_row3_col1, #T_a6d28_row4_col1, #T_a6d28_row5_col1 {\n",
       "  background-color: #fcbca2;\n",
       "  color: #000000;\n",
       "}\n",
       "#T_a6d28_row2_col3 {\n",
       "  background-color: #fee5d9;\n",
       "  color: #000000;\n",
       "}\n",
       "#T_a6d28_row2_col4 {\n",
       "  background-color: #ffebe2;\n",
       "  color: #000000;\n",
       "}\n",
       "#T_a6d28_row2_col5 {\n",
       "  background-color: #fee7dc;\n",
       "  color: #000000;\n",
       "}\n",
       "#T_a6d28_row2_col6 {\n",
       "  background-color: #ffede5;\n",
       "  color: #000000;\n",
       "}\n",
       "#T_a6d28_row2_col7 {\n",
       "  background-color: #b21218;\n",
       "  color: #f1f1f1;\n",
       "}\n",
       "#T_a6d28_row2_col8 {\n",
       "  background-color: #f6553c;\n",
       "  color: #f1f1f1;\n",
       "}\n",
       "#T_a6d28_row3_col0, #T_a6d28_row4_col0, #T_a6d28_row5_col0, #T_a6d28_row6_col0, #T_a6d28_row6_col7, #T_a6d28_row7_col0, #T_a6d28_row9_col0 {\n",
       "  background-color: #fcbba1;\n",
       "  color: #000000;\n",
       "}\n",
       "#T_a6d28_row3_col3, #T_a6d28_row5_col6, #T_a6d28_row7_col8 {\n",
       "  background-color: #feeae1;\n",
       "  color: #000000;\n",
       "}\n",
       "#T_a6d28_row3_col4 {\n",
       "  background-color: #fee3d7;\n",
       "  color: #000000;\n",
       "}\n",
       "#T_a6d28_row3_col5, #T_a6d28_row4_col5 {\n",
       "  background-color: #fee2d5;\n",
       "  color: #000000;\n",
       "}\n",
       "#T_a6d28_row3_col6 {\n",
       "  background-color: #fee6da;\n",
       "  color: #000000;\n",
       "}\n",
       "#T_a6d28_row3_col7, #T_a6d28_row7_col4 {\n",
       "  background-color: #f44f39;\n",
       "  color: #f1f1f1;\n",
       "}\n",
       "#T_a6d28_row3_col8 {\n",
       "  background-color: #fa6849;\n",
       "  color: #f1f1f1;\n",
       "}\n",
       "#T_a6d28_row4_col3 {\n",
       "  background-color: #fee1d4;\n",
       "  color: #000000;\n",
       "}\n",
       "#T_a6d28_row4_col4 {\n",
       "  background-color: #fed8c7;\n",
       "  color: #000000;\n",
       "}\n",
       "#T_a6d28_row4_col6 {\n",
       "  background-color: #fedfd0;\n",
       "  color: #000000;\n",
       "}\n",
       "#T_a6d28_row4_col7 {\n",
       "  background-color: #fcb095;\n",
       "  color: #000000;\n",
       "}\n",
       "#T_a6d28_row4_col8 {\n",
       "  background-color: #fa6648;\n",
       "  color: #f1f1f1;\n",
       "}\n",
       "#T_a6d28_row5_col3 {\n",
       "  background-color: #fff4ef;\n",
       "  color: #000000;\n",
       "}\n",
       "#T_a6d28_row5_col4 {\n",
       "  background-color: #fee7db;\n",
       "  color: #000000;\n",
       "}\n",
       "#T_a6d28_row5_col5 {\n",
       "  background-color: #ffeee6;\n",
       "  color: #000000;\n",
       "}\n",
       "#T_a6d28_row5_col7 {\n",
       "  background-color: #fca689;\n",
       "  color: #000000;\n",
       "}\n",
       "#T_a6d28_row5_col8 {\n",
       "  background-color: #fdcdb9;\n",
       "  color: #000000;\n",
       "}\n",
       "#T_a6d28_row6_col3, #T_a6d28_row8_col3 {\n",
       "  background-color: #fcb69b;\n",
       "  color: #000000;\n",
       "}\n",
       "#T_a6d28_row6_col4 {\n",
       "  background-color: #fc9474;\n",
       "  color: #000000;\n",
       "}\n",
       "#T_a6d28_row6_col5 {\n",
       "  background-color: #fc9373;\n",
       "  color: #000000;\n",
       "}\n",
       "#T_a6d28_row6_col6 {\n",
       "  background-color: #fc8f6f;\n",
       "  color: #000000;\n",
       "}\n",
       "#T_a6d28_row6_col8 {\n",
       "  background-color: #fca486;\n",
       "  color: #000000;\n",
       "}\n",
       "#T_a6d28_row7_col3 {\n",
       "  background-color: #fc9879;\n",
       "  color: #000000;\n",
       "}\n",
       "#T_a6d28_row7_col5 {\n",
       "  background-color: #fc8a6a;\n",
       "  color: #f1f1f1;\n",
       "}\n",
       "#T_a6d28_row7_col6 {\n",
       "  background-color: #fa6547;\n",
       "  color: #f1f1f1;\n",
       "}\n",
       "#T_a6d28_row7_col7 {\n",
       "  background-color: #fdd4c2;\n",
       "  color: #000000;\n",
       "}\n",
       "#T_a6d28_row8_col2 {\n",
       "  background-color: #e02c26;\n",
       "  color: #f1f1f1;\n",
       "}\n",
       "#T_a6d28_row8_col4 {\n",
       "  background-color: #f6583e;\n",
       "  color: #f1f1f1;\n",
       "}\n",
       "#T_a6d28_row8_col5 {\n",
       "  background-color: #fc8262;\n",
       "  color: #f1f1f1;\n",
       "}\n",
       "#T_a6d28_row8_col6 {\n",
       "  background-color: #fb7656;\n",
       "  color: #f1f1f1;\n",
       "}\n",
       "#T_a6d28_row9_col3 {\n",
       "  background-color: #fc8161;\n",
       "  color: #f1f1f1;\n",
       "}\n",
       "#T_a6d28_row9_col4, #T_a6d28_row9_col5 {\n",
       "  background-color: #f24734;\n",
       "  color: #f1f1f1;\n",
       "}\n",
       "#T_a6d28_row9_col6 {\n",
       "  background-color: #f34c37;\n",
       "  color: #f1f1f1;\n",
       "}\n",
       "#T_a6d28_row9_col7 {\n",
       "  background-color: #fcb89e;\n",
       "  color: #000000;\n",
       "}\n",
       "#T_a6d28_row9_col8 {\n",
       "  background-color: #fed9c9;\n",
       "  color: #000000;\n",
       "}\n",
       "</style>\n",
       "<table id=\"T_a6d28\">\n",
       "  <thead>\n",
       "    <tr>\n",
       "      <th class=\"blank level0\" >&nbsp;</th>\n",
       "      <th id=\"T_a6d28_level0_col0\" class=\"col_heading level0 col0\" >longitude</th>\n",
       "      <th id=\"T_a6d28_level0_col1\" class=\"col_heading level0 col1\" >latitude</th>\n",
       "      <th id=\"T_a6d28_level0_col2\" class=\"col_heading level0 col2\" >housing_median_age</th>\n",
       "      <th id=\"T_a6d28_level0_col3\" class=\"col_heading level0 col3\" >total_rooms</th>\n",
       "      <th id=\"T_a6d28_level0_col4\" class=\"col_heading level0 col4\" >total_bedrooms</th>\n",
       "      <th id=\"T_a6d28_level0_col5\" class=\"col_heading level0 col5\" >population</th>\n",
       "      <th id=\"T_a6d28_level0_col6\" class=\"col_heading level0 col6\" >households</th>\n",
       "      <th id=\"T_a6d28_level0_col7\" class=\"col_heading level0 col7\" >median_income</th>\n",
       "      <th id=\"T_a6d28_level0_col8\" class=\"col_heading level0 col8\" >median_house_value</th>\n",
       "      <th id=\"T_a6d28_level0_col9\" class=\"col_heading level0 col9\" >ocean_proximity</th>\n",
       "    </tr>\n",
       "  </thead>\n",
       "  <tbody>\n",
       "    <tr>\n",
       "      <th id=\"T_a6d28_level0_row0\" class=\"row_heading level0 row0\" >0</th>\n",
       "      <td id=\"T_a6d28_row0_col0\" class=\"data row0 col0\" >-122.230000</td>\n",
       "      <td id=\"T_a6d28_row0_col1\" class=\"data row0 col1\" >37.880000</td>\n",
       "      <td id=\"T_a6d28_row0_col2\" class=\"data row0 col2\" >41.000000</td>\n",
       "      <td id=\"T_a6d28_row0_col3\" class=\"data row0 col3\" >880.000000</td>\n",
       "      <td id=\"T_a6d28_row0_col4\" class=\"data row0 col4\" >129.000000</td>\n",
       "      <td id=\"T_a6d28_row0_col5\" class=\"data row0 col5\" >322.000000</td>\n",
       "      <td id=\"T_a6d28_row0_col6\" class=\"data row0 col6\" >126.000000</td>\n",
       "      <td id=\"T_a6d28_row0_col7\" class=\"data row0 col7\" >8.325200</td>\n",
       "      <td id=\"T_a6d28_row0_col8\" class=\"data row0 col8\" >452600.000000</td>\n",
       "      <td id=\"T_a6d28_row0_col9\" class=\"data row0 col9\" >NEAR BAY</td>\n",
       "    </tr>\n",
       "    <tr>\n",
       "      <th id=\"T_a6d28_level0_row1\" class=\"row_heading level0 row1\" >1</th>\n",
       "      <td id=\"T_a6d28_row1_col0\" class=\"data row1 col0\" >-122.220000</td>\n",
       "      <td id=\"T_a6d28_row1_col1\" class=\"data row1 col1\" >37.860000</td>\n",
       "      <td id=\"T_a6d28_row1_col2\" class=\"data row1 col2\" >21.000000</td>\n",
       "      <td id=\"T_a6d28_row1_col3\" class=\"data row1 col3\" >7099.000000</td>\n",
       "      <td id=\"T_a6d28_row1_col4\" class=\"data row1 col4\" >1106.000000</td>\n",
       "      <td id=\"T_a6d28_row1_col5\" class=\"data row1 col5\" >2401.000000</td>\n",
       "      <td id=\"T_a6d28_row1_col6\" class=\"data row1 col6\" >1138.000000</td>\n",
       "      <td id=\"T_a6d28_row1_col7\" class=\"data row1 col7\" >8.301400</td>\n",
       "      <td id=\"T_a6d28_row1_col8\" class=\"data row1 col8\" >358500.000000</td>\n",
       "      <td id=\"T_a6d28_row1_col9\" class=\"data row1 col9\" >NEAR BAY</td>\n",
       "    </tr>\n",
       "    <tr>\n",
       "      <th id=\"T_a6d28_level0_row2\" class=\"row_heading level0 row2\" >2</th>\n",
       "      <td id=\"T_a6d28_row2_col0\" class=\"data row2 col0\" >-122.240000</td>\n",
       "      <td id=\"T_a6d28_row2_col1\" class=\"data row2 col1\" >37.850000</td>\n",
       "      <td id=\"T_a6d28_row2_col2\" class=\"data row2 col2\" >52.000000</td>\n",
       "      <td id=\"T_a6d28_row2_col3\" class=\"data row2 col3\" >1467.000000</td>\n",
       "      <td id=\"T_a6d28_row2_col4\" class=\"data row2 col4\" >190.000000</td>\n",
       "      <td id=\"T_a6d28_row2_col5\" class=\"data row2 col5\" >496.000000</td>\n",
       "      <td id=\"T_a6d28_row2_col6\" class=\"data row2 col6\" >177.000000</td>\n",
       "      <td id=\"T_a6d28_row2_col7\" class=\"data row2 col7\" >7.257400</td>\n",
       "      <td id=\"T_a6d28_row2_col8\" class=\"data row2 col8\" >352100.000000</td>\n",
       "      <td id=\"T_a6d28_row2_col9\" class=\"data row2 col9\" >NEAR BAY</td>\n",
       "    </tr>\n",
       "    <tr>\n",
       "      <th id=\"T_a6d28_level0_row3\" class=\"row_heading level0 row3\" >3</th>\n",
       "      <td id=\"T_a6d28_row3_col0\" class=\"data row3 col0\" >-122.250000</td>\n",
       "      <td id=\"T_a6d28_row3_col1\" class=\"data row3 col1\" >37.850000</td>\n",
       "      <td id=\"T_a6d28_row3_col2\" class=\"data row3 col2\" >52.000000</td>\n",
       "      <td id=\"T_a6d28_row3_col3\" class=\"data row3 col3\" >1274.000000</td>\n",
       "      <td id=\"T_a6d28_row3_col4\" class=\"data row3 col4\" >235.000000</td>\n",
       "      <td id=\"T_a6d28_row3_col5\" class=\"data row3 col5\" >558.000000</td>\n",
       "      <td id=\"T_a6d28_row3_col6\" class=\"data row3 col6\" >219.000000</td>\n",
       "      <td id=\"T_a6d28_row3_col7\" class=\"data row3 col7\" >5.643100</td>\n",
       "      <td id=\"T_a6d28_row3_col8\" class=\"data row3 col8\" >341300.000000</td>\n",
       "      <td id=\"T_a6d28_row3_col9\" class=\"data row3 col9\" >NEAR BAY</td>\n",
       "    </tr>\n",
       "    <tr>\n",
       "      <th id=\"T_a6d28_level0_row4\" class=\"row_heading level0 row4\" >4</th>\n",
       "      <td id=\"T_a6d28_row4_col0\" class=\"data row4 col0\" >-122.250000</td>\n",
       "      <td id=\"T_a6d28_row4_col1\" class=\"data row4 col1\" >37.850000</td>\n",
       "      <td id=\"T_a6d28_row4_col2\" class=\"data row4 col2\" >52.000000</td>\n",
       "      <td id=\"T_a6d28_row4_col3\" class=\"data row4 col3\" >1627.000000</td>\n",
       "      <td id=\"T_a6d28_row4_col4\" class=\"data row4 col4\" >280.000000</td>\n",
       "      <td id=\"T_a6d28_row4_col5\" class=\"data row4 col5\" >565.000000</td>\n",
       "      <td id=\"T_a6d28_row4_col6\" class=\"data row4 col6\" >259.000000</td>\n",
       "      <td id=\"T_a6d28_row4_col7\" class=\"data row4 col7\" >3.846200</td>\n",
       "      <td id=\"T_a6d28_row4_col8\" class=\"data row4 col8\" >342200.000000</td>\n",
       "      <td id=\"T_a6d28_row4_col9\" class=\"data row4 col9\" >NEAR BAY</td>\n",
       "    </tr>\n",
       "    <tr>\n",
       "      <th id=\"T_a6d28_level0_row5\" class=\"row_heading level0 row5\" >5</th>\n",
       "      <td id=\"T_a6d28_row5_col0\" class=\"data row5 col0\" >-122.250000</td>\n",
       "      <td id=\"T_a6d28_row5_col1\" class=\"data row5 col1\" >37.850000</td>\n",
       "      <td id=\"T_a6d28_row5_col2\" class=\"data row5 col2\" >52.000000</td>\n",
       "      <td id=\"T_a6d28_row5_col3\" class=\"data row5 col3\" >919.000000</td>\n",
       "      <td id=\"T_a6d28_row5_col4\" class=\"data row5 col4\" >213.000000</td>\n",
       "      <td id=\"T_a6d28_row5_col5\" class=\"data row5 col5\" >413.000000</td>\n",
       "      <td id=\"T_a6d28_row5_col6\" class=\"data row5 col6\" >193.000000</td>\n",
       "      <td id=\"T_a6d28_row5_col7\" class=\"data row5 col7\" >4.036800</td>\n",
       "      <td id=\"T_a6d28_row5_col8\" class=\"data row5 col8\" >269700.000000</td>\n",
       "      <td id=\"T_a6d28_row5_col9\" class=\"data row5 col9\" >NEAR BAY</td>\n",
       "    </tr>\n",
       "    <tr>\n",
       "      <th id=\"T_a6d28_level0_row6\" class=\"row_heading level0 row6\" >6</th>\n",
       "      <td id=\"T_a6d28_row6_col0\" class=\"data row6 col0\" >-122.250000</td>\n",
       "      <td id=\"T_a6d28_row6_col1\" class=\"data row6 col1\" >37.840000</td>\n",
       "      <td id=\"T_a6d28_row6_col2\" class=\"data row6 col2\" >52.000000</td>\n",
       "      <td id=\"T_a6d28_row6_col3\" class=\"data row6 col3\" >2535.000000</td>\n",
       "      <td id=\"T_a6d28_row6_col4\" class=\"data row6 col4\" >489.000000</td>\n",
       "      <td id=\"T_a6d28_row6_col5\" class=\"data row6 col5\" >1094.000000</td>\n",
       "      <td id=\"T_a6d28_row6_col6\" class=\"data row6 col6\" >514.000000</td>\n",
       "      <td id=\"T_a6d28_row6_col7\" class=\"data row6 col7\" >3.659100</td>\n",
       "      <td id=\"T_a6d28_row6_col8\" class=\"data row6 col8\" >299200.000000</td>\n",
       "      <td id=\"T_a6d28_row6_col9\" class=\"data row6 col9\" >NEAR BAY</td>\n",
       "    </tr>\n",
       "    <tr>\n",
       "      <th id=\"T_a6d28_level0_row7\" class=\"row_heading level0 row7\" >7</th>\n",
       "      <td id=\"T_a6d28_row7_col0\" class=\"data row7 col0\" >-122.250000</td>\n",
       "      <td id=\"T_a6d28_row7_col1\" class=\"data row7 col1\" >37.840000</td>\n",
       "      <td id=\"T_a6d28_row7_col2\" class=\"data row7 col2\" >52.000000</td>\n",
       "      <td id=\"T_a6d28_row7_col3\" class=\"data row7 col3\" >3104.000000</td>\n",
       "      <td id=\"T_a6d28_row7_col4\" class=\"data row7 col4\" >687.000000</td>\n",
       "      <td id=\"T_a6d28_row7_col5\" class=\"data row7 col5\" >1157.000000</td>\n",
       "      <td id=\"T_a6d28_row7_col6\" class=\"data row7 col6\" >647.000000</td>\n",
       "      <td id=\"T_a6d28_row7_col7\" class=\"data row7 col7\" >3.120000</td>\n",
       "      <td id=\"T_a6d28_row7_col8\" class=\"data row7 col8\" >241400.000000</td>\n",
       "      <td id=\"T_a6d28_row7_col9\" class=\"data row7 col9\" >NEAR BAY</td>\n",
       "    </tr>\n",
       "    <tr>\n",
       "      <th id=\"T_a6d28_level0_row8\" class=\"row_heading level0 row8\" >8</th>\n",
       "      <td id=\"T_a6d28_row8_col0\" class=\"data row8 col0\" >-122.260000</td>\n",
       "      <td id=\"T_a6d28_row8_col1\" class=\"data row8 col1\" >37.840000</td>\n",
       "      <td id=\"T_a6d28_row8_col2\" class=\"data row8 col2\" >42.000000</td>\n",
       "      <td id=\"T_a6d28_row8_col3\" class=\"data row8 col3\" >2555.000000</td>\n",
       "      <td id=\"T_a6d28_row8_col4\" class=\"data row8 col4\" >665.000000</td>\n",
       "      <td id=\"T_a6d28_row8_col5\" class=\"data row8 col5\" >1206.000000</td>\n",
       "      <td id=\"T_a6d28_row8_col6\" class=\"data row8 col6\" >595.000000</td>\n",
       "      <td id=\"T_a6d28_row8_col7\" class=\"data row8 col7\" >2.080400</td>\n",
       "      <td id=\"T_a6d28_row8_col8\" class=\"data row8 col8\" >226700.000000</td>\n",
       "      <td id=\"T_a6d28_row8_col9\" class=\"data row8 col9\" >NEAR BAY</td>\n",
       "    </tr>\n",
       "    <tr>\n",
       "      <th id=\"T_a6d28_level0_row9\" class=\"row_heading level0 row9\" >9</th>\n",
       "      <td id=\"T_a6d28_row9_col0\" class=\"data row9 col0\" >-122.250000</td>\n",
       "      <td id=\"T_a6d28_row9_col1\" class=\"data row9 col1\" >37.840000</td>\n",
       "      <td id=\"T_a6d28_row9_col2\" class=\"data row9 col2\" >52.000000</td>\n",
       "      <td id=\"T_a6d28_row9_col3\" class=\"data row9 col3\" >3549.000000</td>\n",
       "      <td id=\"T_a6d28_row9_col4\" class=\"data row9 col4\" >707.000000</td>\n",
       "      <td id=\"T_a6d28_row9_col5\" class=\"data row9 col5\" >1551.000000</td>\n",
       "      <td id=\"T_a6d28_row9_col6\" class=\"data row9 col6\" >714.000000</td>\n",
       "      <td id=\"T_a6d28_row9_col7\" class=\"data row9 col7\" >3.691200</td>\n",
       "      <td id=\"T_a6d28_row9_col8\" class=\"data row9 col8\" >261100.000000</td>\n",
       "      <td id=\"T_a6d28_row9_col9\" class=\"data row9 col9\" >NEAR BAY</td>\n",
       "    </tr>\n",
       "  </tbody>\n",
       "</table>\n"
      ],
      "text/plain": [
       "<pandas.io.formats.style.Styler at 0x16bc08d90>"
      ]
     },
     "execution_count": 47,
     "metadata": {},
     "output_type": "execute_result"
    }
   ],
   "source": [
    "#Gradient background color for the numerical columns \n",
    "house_pricing_df.head(10).style.background_gradient(cmap='Reds')"
   ]
  },
  {
   "cell_type": "code",
   "execution_count": 62,
   "id": "8d77aa75",
   "metadata": {},
   "outputs": [
    {
     "name": "stdout",
     "output_type": "stream",
     "text": [
      "<class 'pandas.core.frame.DataFrame'>\n",
      "RangeIndex: 20640 entries, 0 to 20639\n",
      "Data columns (total 10 columns):\n",
      " #   Column              Non-Null Count  Dtype  \n",
      "---  ------              --------------  -----  \n",
      " 0   longitude           20640 non-null  float64\n",
      " 1   latitude            20640 non-null  float64\n",
      " 2   housing_median_age  20640 non-null  float64\n",
      " 3   total_rooms         20640 non-null  float64\n",
      " 4   total_bedrooms      20433 non-null  float64\n",
      " 5   population          20640 non-null  float64\n",
      " 6   households          20640 non-null  float64\n",
      " 7   median_income       20640 non-null  float64\n",
      " 8   median_house_value  20640 non-null  float64\n",
      " 9   ocean_proximity     20640 non-null  object \n",
      "dtypes: float64(9), object(1)\n",
      "memory usage: 1.6+ MB\n"
     ]
    }
   ],
   "source": [
    "# check the info of the data e.g NO. columns, NO. rows and nulls dtypes of the data \n",
    "house_pricing_df.info() "
   ]
  },
  {
   "cell_type": "code",
   "execution_count": 48,
   "id": "b0d33199",
   "metadata": {},
   "outputs": [
    {
     "data": {
      "text/html": [
       "<style type=\"text/css\">\n",
       "#T_81247_row0_col0, #T_81247_row0_col1, #T_81247_row0_col2, #T_81247_row0_col4, #T_81247_row0_col6, #T_81247_row0_col7, #T_81247_row7_col3, #T_81247_row7_col5, #T_81247_row7_col8 {\n",
       "  background-color: #67000d;\n",
       "  color: #f1f1f1;\n",
       "}\n",
       "#T_81247_row0_col3 {\n",
       "  background-color: #f96044;\n",
       "  color: #f1f1f1;\n",
       "}\n",
       "#T_81247_row0_col5 {\n",
       "  background-color: #f34c37;\n",
       "  color: #f1f1f1;\n",
       "}\n",
       "#T_81247_row0_col8 {\n",
       "  background-color: #fff4ee;\n",
       "  color: #000000;\n",
       "}\n",
       "#T_81247_row1_col0, #T_81247_row1_col1, #T_81247_row1_col2, #T_81247_row1_col7, #T_81247_row2_col1, #T_81247_row2_col2, #T_81247_row2_col7, #T_81247_row3_col0, #T_81247_row3_col1, #T_81247_row3_col2, #T_81247_row3_col3, #T_81247_row3_col4, #T_81247_row3_col5, #T_81247_row3_col6, #T_81247_row3_col7, #T_81247_row3_col8, #T_81247_row4_col0, #T_81247_row4_col1, #T_81247_row4_col2, #T_81247_row4_col7, #T_81247_row5_col0, #T_81247_row5_col1, #T_81247_row5_col2, #T_81247_row5_col7, #T_81247_row6_col0, #T_81247_row6_col1, #T_81247_row6_col2, #T_81247_row6_col7, #T_81247_row7_col0, #T_81247_row7_col1, #T_81247_row7_col2, #T_81247_row7_col7 {\n",
       "  background-color: #fff5f0;\n",
       "  color: #000000;\n",
       "}\n",
       "#T_81247_row1_col3 {\n",
       "  background-color: #feeae0;\n",
       "  color: #000000;\n",
       "}\n",
       "#T_81247_row1_col4, #T_81247_row1_col6 {\n",
       "  background-color: #fff1ea;\n",
       "  color: #000000;\n",
       "}\n",
       "#T_81247_row1_col5 {\n",
       "  background-color: #ffeee7;\n",
       "  color: #000000;\n",
       "}\n",
       "#T_81247_row1_col8 {\n",
       "  background-color: #fc8b6b;\n",
       "  color: #f1f1f1;\n",
       "}\n",
       "#T_81247_row2_col0 {\n",
       "  background-color: #fff4ef;\n",
       "  color: #000000;\n",
       "}\n",
       "#T_81247_row2_col3 {\n",
       "  background-color: #ffece3;\n",
       "  color: #000000;\n",
       "}\n",
       "#T_81247_row2_col4, #T_81247_row4_col5, #T_81247_row5_col4, #T_81247_row5_col6 {\n",
       "  background-color: #fff2eb;\n",
       "  color: #000000;\n",
       "}\n",
       "#T_81247_row2_col5, #T_81247_row5_col5, #T_81247_row6_col4 {\n",
       "  background-color: #fff0e8;\n",
       "  color: #000000;\n",
       "}\n",
       "#T_81247_row2_col6 {\n",
       "  background-color: #fff2ec;\n",
       "  color: #000000;\n",
       "}\n",
       "#T_81247_row2_col8 {\n",
       "  background-color: #fdc9b3;\n",
       "  color: #000000;\n",
       "}\n",
       "#T_81247_row4_col3 {\n",
       "  background-color: #ffefe8;\n",
       "  color: #000000;\n",
       "}\n",
       "#T_81247_row4_col4, #T_81247_row4_col6 {\n",
       "  background-color: #fff3ed;\n",
       "  color: #000000;\n",
       "}\n",
       "#T_81247_row4_col8 {\n",
       "  background-color: #fdc5ae;\n",
       "  color: #000000;\n",
       "}\n",
       "#T_81247_row5_col3 {\n",
       "  background-color: #ffece4;\n",
       "  color: #000000;\n",
       "}\n",
       "#T_81247_row5_col8 {\n",
       "  background-color: #fc9e80;\n",
       "  color: #000000;\n",
       "}\n",
       "#T_81247_row6_col3 {\n",
       "  background-color: #fee8dd;\n",
       "  color: #000000;\n",
       "}\n",
       "#T_81247_row6_col5 {\n",
       "  background-color: #ffede5;\n",
       "  color: #000000;\n",
       "}\n",
       "#T_81247_row6_col6 {\n",
       "  background-color: #fff0e9;\n",
       "  color: #000000;\n",
       "}\n",
       "#T_81247_row6_col8 {\n",
       "  background-color: #fa6547;\n",
       "  color: #f1f1f1;\n",
       "}\n",
       "#T_81247_row7_col4 {\n",
       "  background-color: #fca689;\n",
       "  color: #000000;\n",
       "}\n",
       "#T_81247_row7_col6 {\n",
       "  background-color: #fcad90;\n",
       "  color: #000000;\n",
       "}\n",
       "</style>\n",
       "<table id=\"T_81247\">\n",
       "  <thead>\n",
       "    <tr>\n",
       "      <th class=\"blank level0\" >&nbsp;</th>\n",
       "      <th id=\"T_81247_level0_col0\" class=\"col_heading level0 col0\" >longitude</th>\n",
       "      <th id=\"T_81247_level0_col1\" class=\"col_heading level0 col1\" >latitude</th>\n",
       "      <th id=\"T_81247_level0_col2\" class=\"col_heading level0 col2\" >housing_median_age</th>\n",
       "      <th id=\"T_81247_level0_col3\" class=\"col_heading level0 col3\" >total_rooms</th>\n",
       "      <th id=\"T_81247_level0_col4\" class=\"col_heading level0 col4\" >total_bedrooms</th>\n",
       "      <th id=\"T_81247_level0_col5\" class=\"col_heading level0 col5\" >population</th>\n",
       "      <th id=\"T_81247_level0_col6\" class=\"col_heading level0 col6\" >households</th>\n",
       "      <th id=\"T_81247_level0_col7\" class=\"col_heading level0 col7\" >median_income</th>\n",
       "      <th id=\"T_81247_level0_col8\" class=\"col_heading level0 col8\" >median_house_value</th>\n",
       "    </tr>\n",
       "  </thead>\n",
       "  <tbody>\n",
       "    <tr>\n",
       "      <th id=\"T_81247_level0_row0\" class=\"row_heading level0 row0\" >count</th>\n",
       "      <td id=\"T_81247_row0_col0\" class=\"data row0 col0\" >20640.000000</td>\n",
       "      <td id=\"T_81247_row0_col1\" class=\"data row0 col1\" >20640.000000</td>\n",
       "      <td id=\"T_81247_row0_col2\" class=\"data row0 col2\" >20640.000000</td>\n",
       "      <td id=\"T_81247_row0_col3\" class=\"data row0 col3\" >20640.000000</td>\n",
       "      <td id=\"T_81247_row0_col4\" class=\"data row0 col4\" >20433.000000</td>\n",
       "      <td id=\"T_81247_row0_col5\" class=\"data row0 col5\" >20640.000000</td>\n",
       "      <td id=\"T_81247_row0_col6\" class=\"data row0 col6\" >20640.000000</td>\n",
       "      <td id=\"T_81247_row0_col7\" class=\"data row0 col7\" >20640.000000</td>\n",
       "      <td id=\"T_81247_row0_col8\" class=\"data row0 col8\" >20640.000000</td>\n",
       "    </tr>\n",
       "    <tr>\n",
       "      <th id=\"T_81247_level0_row1\" class=\"row_heading level0 row1\" >mean</th>\n",
       "      <td id=\"T_81247_row1_col0\" class=\"data row1 col0\" >-119.569704</td>\n",
       "      <td id=\"T_81247_row1_col1\" class=\"data row1 col1\" >35.631861</td>\n",
       "      <td id=\"T_81247_row1_col2\" class=\"data row1 col2\" >28.639486</td>\n",
       "      <td id=\"T_81247_row1_col3\" class=\"data row1 col3\" >2635.763081</td>\n",
       "      <td id=\"T_81247_row1_col4\" class=\"data row1 col4\" >537.870553</td>\n",
       "      <td id=\"T_81247_row1_col5\" class=\"data row1 col5\" >1425.476744</td>\n",
       "      <td id=\"T_81247_row1_col6\" class=\"data row1 col6\" >499.539680</td>\n",
       "      <td id=\"T_81247_row1_col7\" class=\"data row1 col7\" >3.870671</td>\n",
       "      <td id=\"T_81247_row1_col8\" class=\"data row1 col8\" >206855.816909</td>\n",
       "    </tr>\n",
       "    <tr>\n",
       "      <th id=\"T_81247_level0_row2\" class=\"row_heading level0 row2\" >std</th>\n",
       "      <td id=\"T_81247_row2_col0\" class=\"data row2 col0\" >2.003532</td>\n",
       "      <td id=\"T_81247_row2_col1\" class=\"data row2 col1\" >2.135952</td>\n",
       "      <td id=\"T_81247_row2_col2\" class=\"data row2 col2\" >12.585558</td>\n",
       "      <td id=\"T_81247_row2_col3\" class=\"data row2 col3\" >2181.615252</td>\n",
       "      <td id=\"T_81247_row2_col4\" class=\"data row2 col4\" >421.385070</td>\n",
       "      <td id=\"T_81247_row2_col5\" class=\"data row2 col5\" >1132.462122</td>\n",
       "      <td id=\"T_81247_row2_col6\" class=\"data row2 col6\" >382.329753</td>\n",
       "      <td id=\"T_81247_row2_col7\" class=\"data row2 col7\" >1.899822</td>\n",
       "      <td id=\"T_81247_row2_col8\" class=\"data row2 col8\" >115395.615874</td>\n",
       "    </tr>\n",
       "    <tr>\n",
       "      <th id=\"T_81247_level0_row3\" class=\"row_heading level0 row3\" >min</th>\n",
       "      <td id=\"T_81247_row3_col0\" class=\"data row3 col0\" >-124.350000</td>\n",
       "      <td id=\"T_81247_row3_col1\" class=\"data row3 col1\" >32.540000</td>\n",
       "      <td id=\"T_81247_row3_col2\" class=\"data row3 col2\" >1.000000</td>\n",
       "      <td id=\"T_81247_row3_col3\" class=\"data row3 col3\" >2.000000</td>\n",
       "      <td id=\"T_81247_row3_col4\" class=\"data row3 col4\" >1.000000</td>\n",
       "      <td id=\"T_81247_row3_col5\" class=\"data row3 col5\" >3.000000</td>\n",
       "      <td id=\"T_81247_row3_col6\" class=\"data row3 col6\" >1.000000</td>\n",
       "      <td id=\"T_81247_row3_col7\" class=\"data row3 col7\" >0.499900</td>\n",
       "      <td id=\"T_81247_row3_col8\" class=\"data row3 col8\" >14999.000000</td>\n",
       "    </tr>\n",
       "    <tr>\n",
       "      <th id=\"T_81247_level0_row4\" class=\"row_heading level0 row4\" >25%</th>\n",
       "      <td id=\"T_81247_row4_col0\" class=\"data row4 col0\" >-121.800000</td>\n",
       "      <td id=\"T_81247_row4_col1\" class=\"data row4 col1\" >33.930000</td>\n",
       "      <td id=\"T_81247_row4_col2\" class=\"data row4 col2\" >18.000000</td>\n",
       "      <td id=\"T_81247_row4_col3\" class=\"data row4 col3\" >1447.750000</td>\n",
       "      <td id=\"T_81247_row4_col4\" class=\"data row4 col4\" >296.000000</td>\n",
       "      <td id=\"T_81247_row4_col5\" class=\"data row4 col5\" >787.000000</td>\n",
       "      <td id=\"T_81247_row4_col6\" class=\"data row4 col6\" >280.000000</td>\n",
       "      <td id=\"T_81247_row4_col7\" class=\"data row4 col7\" >2.563400</td>\n",
       "      <td id=\"T_81247_row4_col8\" class=\"data row4 col8\" >119600.000000</td>\n",
       "    </tr>\n",
       "    <tr>\n",
       "      <th id=\"T_81247_level0_row5\" class=\"row_heading level0 row5\" >50%</th>\n",
       "      <td id=\"T_81247_row5_col0\" class=\"data row5 col0\" >-118.490000</td>\n",
       "      <td id=\"T_81247_row5_col1\" class=\"data row5 col1\" >34.260000</td>\n",
       "      <td id=\"T_81247_row5_col2\" class=\"data row5 col2\" >29.000000</td>\n",
       "      <td id=\"T_81247_row5_col3\" class=\"data row5 col3\" >2127.000000</td>\n",
       "      <td id=\"T_81247_row5_col4\" class=\"data row5 col4\" >435.000000</td>\n",
       "      <td id=\"T_81247_row5_col5\" class=\"data row5 col5\" >1166.000000</td>\n",
       "      <td id=\"T_81247_row5_col6\" class=\"data row5 col6\" >409.000000</td>\n",
       "      <td id=\"T_81247_row5_col7\" class=\"data row5 col7\" >3.534800</td>\n",
       "      <td id=\"T_81247_row5_col8\" class=\"data row5 col8\" >179700.000000</td>\n",
       "    </tr>\n",
       "    <tr>\n",
       "      <th id=\"T_81247_level0_row6\" class=\"row_heading level0 row6\" >75%</th>\n",
       "      <td id=\"T_81247_row6_col0\" class=\"data row6 col0\" >-118.010000</td>\n",
       "      <td id=\"T_81247_row6_col1\" class=\"data row6 col1\" >37.710000</td>\n",
       "      <td id=\"T_81247_row6_col2\" class=\"data row6 col2\" >37.000000</td>\n",
       "      <td id=\"T_81247_row6_col3\" class=\"data row6 col3\" >3148.000000</td>\n",
       "      <td id=\"T_81247_row6_col4\" class=\"data row6 col4\" >647.000000</td>\n",
       "      <td id=\"T_81247_row6_col5\" class=\"data row6 col5\" >1725.000000</td>\n",
       "      <td id=\"T_81247_row6_col6\" class=\"data row6 col6\" >605.000000</td>\n",
       "      <td id=\"T_81247_row6_col7\" class=\"data row6 col7\" >4.743250</td>\n",
       "      <td id=\"T_81247_row6_col8\" class=\"data row6 col8\" >264725.000000</td>\n",
       "    </tr>\n",
       "    <tr>\n",
       "      <th id=\"T_81247_level0_row7\" class=\"row_heading level0 row7\" >max</th>\n",
       "      <td id=\"T_81247_row7_col0\" class=\"data row7 col0\" >-114.310000</td>\n",
       "      <td id=\"T_81247_row7_col1\" class=\"data row7 col1\" >41.950000</td>\n",
       "      <td id=\"T_81247_row7_col2\" class=\"data row7 col2\" >52.000000</td>\n",
       "      <td id=\"T_81247_row7_col3\" class=\"data row7 col3\" >39320.000000</td>\n",
       "      <td id=\"T_81247_row7_col4\" class=\"data row7 col4\" >6445.000000</td>\n",
       "      <td id=\"T_81247_row7_col5\" class=\"data row7 col5\" >35682.000000</td>\n",
       "      <td id=\"T_81247_row7_col6\" class=\"data row7 col6\" >6082.000000</td>\n",
       "      <td id=\"T_81247_row7_col7\" class=\"data row7 col7\" >15.000100</td>\n",
       "      <td id=\"T_81247_row7_col8\" class=\"data row7 col8\" >500001.000000</td>\n",
       "    </tr>\n",
       "  </tbody>\n",
       "</table>\n"
      ],
      "text/plain": [
       "<pandas.io.formats.style.Styler at 0x1694be890>"
      ]
     },
     "execution_count": 48,
     "metadata": {},
     "output_type": "execute_result"
    }
   ],
   "source": [
    "# some statistical measurement (neam, std, min max etc)\n",
    "house_pricing_df.describe().style.background_gradient(cmap='Reds')"
   ]
  },
  {
   "cell_type": "code",
   "execution_count": 64,
   "id": "45400e64",
   "metadata": {},
   "outputs": [
    {
     "data": {
      "text/plain": [
       "(20640, 10)"
      ]
     },
     "execution_count": 64,
     "metadata": {},
     "output_type": "execute_result"
    }
   ],
   "source": [
    "house_pricing_df.shape            # shape of the data (number of rows and columns)"
   ]
  },
  {
   "cell_type": "code",
   "execution_count": 65,
   "id": "435115bc",
   "metadata": {},
   "outputs": [
    {
     "data": {
      "text/plain": [
       "Index(['longitude', 'latitude', 'housing_median_age', 'total_rooms',\n",
       "       'total_bedrooms', 'population', 'households', 'median_income',\n",
       "       'median_house_value', 'ocean_proximity'],\n",
       "      dtype='object')"
      ]
     },
     "execution_count": 65,
     "metadata": {},
     "output_type": "execute_result"
    }
   ],
   "source": [
    "# Show all columns name in the dataset\n",
    "house_pricing_df.columns"
   ]
  },
  {
   "cell_type": "code",
   "execution_count": 57,
   "id": "0ea9eb99",
   "metadata": {},
   "outputs": [
    {
     "data": {
      "text/plain": [
       "longitude               0\n",
       "latitude                0\n",
       "housing_median_age      0\n",
       "total_rooms             0\n",
       "total_bedrooms        207\n",
       "population              0\n",
       "households              0\n",
       "median_income           0\n",
       "median_house_value      0\n",
       "ocean_proximity         0\n",
       "dtype: int64"
      ]
     },
     "execution_count": 57,
     "metadata": {},
     "output_type": "execute_result"
    }
   ],
   "source": [
    "# check how many null values in each column in the dataFrame\n",
    "house_pricing_df.isnull().sum() "
   ]
  },
  {
   "cell_type": "markdown",
   "id": "0aabf78d",
   "metadata": {},
   "source": [
    "* 'Based on the above overview of the dataset, it can be seen that the data contains 20640 entities and 10 column. the dataset contains 9 columns of float64 and 1 column object which is ocean_proximity. The column total_bedrooms contains 207 of missing values which we need to deal with it using either droping or immputaion(mean, median or mode) technuqe'"
   ]
  },
  {
   "cell_type": "markdown",
   "id": "da3a9426",
   "metadata": {},
   "source": [
    "## Exploratory Data Analysis (EDA) and Creating Some visulaization for the data"
   ]
  },
  {
   "cell_type": "code",
   "execution_count": 71,
   "id": "b7b7b6de",
   "metadata": {},
   "outputs": [],
   "source": [
    "# replacing the <1H OCEAN with 1H OCEAN\n",
    "house_pricing_df['ocean_proximity'] = house_pricing_df['ocean_proximity'].replace('<H OCEAN', '1H OCEAN')"
   ]
  },
  {
   "cell_type": "code",
   "execution_count": 75,
   "id": "24a7fdc4",
   "metadata": {},
   "outputs": [
    {
     "data": {
      "text/plain": [
       "1H OCEAN      9136\n",
       "INLAND        6551\n",
       "NEAR OCEAN    2658\n",
       "NEAR BAY      2290\n",
       "ISLAND           5\n",
       "Name: ocean_proximity, dtype: int64"
      ]
     },
     "execution_count": 75,
     "metadata": {},
     "output_type": "execute_result"
    }
   ],
   "source": [
    "# get how many times each catigory repeated\n",
    "ocean_value = house_pricing_df['ocean_proximity'].value_counts()\n",
    "ocean_value"
   ]
  },
  {
   "cell_type": "code",
   "execution_count": 112,
   "id": "8c069468",
   "metadata": {},
   "outputs": [
    {
     "data": {
      "image/png": "[encoded data removed]",
      "text/plain": [
       "<Figure size 800x500 with 1 Axes>"
      ]
     },
     "metadata": {},
     "output_type": "display_data"
    }
   ],
   "source": [
    "# visulization the ocean proximity column\n",
    "plt.figure(figsize=(8, 5))\n",
    "sns.countplot(x='ocean_proximity', data=house_pricing_df, order=ocean_value.index)\n",
    "plt.title('Count Plot for ocean proximity feature in the dataset')\n",
    "plt.tight_layout()\n",
    "\n",
    "# get the percentage of each oceam proximity\n",
    "for i in range(len(ocean_value)) :\n",
    "    counter = ocean_value[i] \n",
    "    value   = f'{(counter / house_pricing_df.shape[0]) * 100:.2f}%'\n",
    "    plt.text(i, counter+100, value, ha='center', color='red', fontsize=14)\n",
    "    plt.tight_layout() \n",
    " "
   ]
  },
  {
   "cell_type": "markdown",
   "id": "1ad3b5db",
   "metadata": {},
   "source": [
    "* 'The ocean_proxmitiy column contains 5 calsses each have differnt value. 1H OCEAN repeated 9136 time, INLAND 6551, Near OCEAN 2658, NEAR BY 2290 and ISLAND 5. The 1H OCEAN contain 44.26% of the data, INLAND 31.74%, NEAR OCEAN 12.88%, NEAR BY 11.09% and ISLAND 0.02%'"
   ]
  },
  {
   "cell_type": "code",
   "execution_count": 17,
   "id": "986989aa",
   "metadata": {},
   "outputs": [
    {
     "data": {
      "image/png": "[encoded data removed]",
      "text/plain": [
       "<Figure size 2000x1300 with 9 Axes>"
      ]
     },
     "metadata": {},
     "output_type": "display_data"
    }
   ],
   "source": [
    "# histogram distrbution for the numberical data\n",
    "house_pricing_df.hist(bins=50, figsize=(20,13));"
   ]
  },
  {
   "cell_type": "code",
   "execution_count": 18,
   "id": "e3bfde76",
   "metadata": {},
   "outputs": [
    {
     "data": {
      "image/png": "[encoded data removed]",
      "text/plain": [
       "<Figure size 800x500 with 1 Axes>"
      ]
     },
     "metadata": {},
     "output_type": "display_data"
    }
   ],
   "source": [
    "# scatter plot the meadian income and median house value\n",
    "plt.figure(figsize=(8, 5))\n",
    "plt.scatter(house_pricing_df['median_income'], house_pricing_df['median_house_value'])\n",
    "plt.title('Distribution of the Median Income VS. Median house value')\n",
    "plt.xlabel('Median Icome')\n",
    "plt.ylabel('Median house value')\n",
    "plt.show()"
   ]
  },
  {
   "cell_type": "markdown",
   "id": "7954d8d4",
   "metadata": {},
   "source": [
    "* 'From the scatter plot of the median_value and median_house_value, there is a linear relation between the both features'"
   ]
  },
  {
   "cell_type": "code",
   "execution_count": 21,
   "id": "ad4e0fe0",
   "metadata": {},
   "outputs": [
    {
     "data": {
      "text/plain": [
       "count     20640.000000\n",
       "mean     206855.816909\n",
       "std      115395.615874\n",
       "min       14999.000000\n",
       "25%      119600.000000\n",
       "50%      179700.000000\n",
       "75%      264725.000000\n",
       "max      500001.000000\n",
       "Name: median_house_value, dtype: float64"
      ]
     },
     "execution_count": 21,
     "metadata": {},
     "output_type": "execute_result"
    }
   ],
   "source": [
    "house_pricing_df['median_house_value'].describe()"
   ]
  },
  {
   "cell_type": "code",
   "execution_count": null,
   "id": "c075c374",
   "metadata": {},
   "outputs": [],
   "source": []
  },
  {
   "cell_type": "code",
   "execution_count": null,
   "id": "6d26e016",
   "metadata": {},
   "outputs": [],
   "source": []
  },
  {
   "cell_type": "code",
   "execution_count": null,
   "id": "e1a9bcc2",
   "metadata": {},
   "outputs": [],
   "source": []
  },
  {
   "cell_type": "code",
   "execution_count": null,
   "id": "36e0508d",
   "metadata": {},
   "outputs": [],
   "source": []
  },
  {
   "cell_type": "code",
   "execution_count": null,
   "id": "b8873cff",
   "metadata": {},
   "outputs": [],
   "source": [
    "sns.distplot(x=house_pricing_df['total_bedrooms'])"
   ]
  },
  {
   "cell_type": "markdown",
   "id": "e288ed20",
   "metadata": {},
   "source": [
    "* 'From the distribution above, it can be seen that there is no outliers in the data, in this case we can use mean value and replace it with the 207 missing values'"
   ]
  },
  {
   "cell_type": "code",
   "execution_count": null,
   "id": "14438acf",
   "metadata": {},
   "outputs": [],
   "source": []
  },
  {
   "cell_type": "code",
   "execution_count": null,
   "id": "46d44ed9",
   "metadata": {},
   "outputs": [],
   "source": []
  },
  {
   "cell_type": "code",
   "execution_count": null,
   "id": "4a52b3e9",
   "metadata": {},
   "outputs": [],
   "source": []
  },
  {
   "cell_type": "code",
   "execution_count": null,
   "id": "92c49548",
   "metadata": {},
   "outputs": [],
   "source": []
  },
  {
   "cell_type": "code",
   "execution_count": null,
   "id": "e97f7485",
   "metadata": {},
   "outputs": [],
   "source": [
    "house_dataset[house_dataset['bathrooms'] == house_dataset['bathrooms'].min()]"
   ]
  },
  {
   "cell_type": "markdown",
   "id": "5b79bb63",
   "metadata": {},
   "source": [
    "## The price for the house contain the highest number of rooms"
   ]
  },
  {
   "cell_type": "code",
   "execution_count": null,
   "id": "fe160507",
   "metadata": {},
   "outputs": [],
   "source": [
    "house_dataset[house_dataset['bedrooms'] == house_dataset['bathrooms'].max()]['price'].values[0]"
   ]
  },
  {
   "cell_type": "markdown",
   "id": "18dce770",
   "metadata": {},
   "source": [
    "## The total price for the house with the lowest number of rooms"
   ]
  },
  {
   "cell_type": "code",
   "execution_count": null,
   "id": "6e8dd4c1",
   "metadata": {},
   "outputs": [],
   "source": [
    "house_dataset[house_dataset['bedrooms'] == house_dataset['bedrooms'].min()]['price'].values[0]"
   ]
  },
  {
   "cell_type": "markdown",
   "id": "97f7d26c",
   "metadata": {},
   "source": [
    "## The lowes house rooms in the dataset"
   ]
  },
  {
   "cell_type": "code",
   "execution_count": null,
   "id": "5ef2799a",
   "metadata": {},
   "outputs": [],
   "source": [
    "house_dataset[house_dataset['bathrooms'] == house_dataset['bathrooms'].min()]['bedrooms'].values[0]"
   ]
  },
  {
   "cell_type": "markdown",
   "id": "adb4635b",
   "metadata": {},
   "source": [
    "## The total of room in the house contains the highest number of rooms"
   ]
  },
  {
   "cell_type": "code",
   "execution_count": null,
   "id": "f73acdcc",
   "metadata": {},
   "outputs": [],
   "source": [
    "house_dataset[house_dataset['bedrooms'] == house_dataset['bedrooms'].max()]['bedrooms'].values[0]"
   ]
  },
  {
   "cell_type": "markdown",
   "id": "5041a63e",
   "metadata": {},
   "source": [
    "## The total null value in each column"
   ]
  },
  {
   "cell_type": "code",
   "execution_count": null,
   "id": "8c60e0bd",
   "metadata": {},
   "outputs": [],
   "source": []
  },
  {
   "cell_type": "markdown",
   "id": "03abf940",
   "metadata": {},
   "source": [
    "## Check the shape of the dataset"
   ]
  },
  {
   "cell_type": "code",
   "execution_count": null,
   "id": "439c1b0f",
   "metadata": {},
   "outputs": [],
   "source": [
    "house_dataset.shape"
   ]
  },
  {
   "cell_type": "markdown",
   "id": "c9178334",
   "metadata": {},
   "source": [
    "## Calculate the percentage of the missing data"
   ]
  },
  {
   "cell_type": "code",
   "execution_count": null,
   "id": "09bb41d4",
   "metadata": {},
   "outputs": [],
   "source": [
    "missing_percentage = (house_dataset.isna().sum().sum() / house_dataset.size) * 100\n",
    "\n",
    "print(f'The percentage of the missing data is {missing_percentage:.2f}%')"
   ]
  },
  {
   "cell_type": "markdown",
   "id": "9a1eaf0f",
   "metadata": {},
   "source": [
    "## Get the total amount of missing data"
   ]
  },
  {
   "cell_type": "code",
   "execution_count": null,
   "id": "544bb65a",
   "metadata": {},
   "outputs": [],
   "source": [
    "print(f'The total amount of missing data is {house_dataset.isna().sum().sum()}')"
   ]
  },
  {
   "cell_type": "markdown",
   "id": "4c0bf0ab",
   "metadata": {},
   "source": [
    "## Cleaning the missing data"
   ]
  },
  {
   "cell_type": "code",
   "execution_count": null,
   "id": "a9ec1d72",
   "metadata": {},
   "outputs": [],
   "source": [
    "# display the skew to chech which statistical measurement stable for cleaning the missing data\n",
    "sns.distplot(house_dataset['bedrooms'], )\n",
    "plt.show()"
   ]
  },
  {
   "cell_type": "markdown",
   "id": "f40bfd10",
   "metadata": {},
   "source": [
    "## Replace the missing data with the mean value"
   ]
  },
  {
   "cell_type": "code",
   "execution_count": null,
   "id": "dbb8cbdc",
   "metadata": {},
   "outputs": [],
   "source": [
    "house_dataset_df = house_dataset.fillna(house_dataset['bedrooms'].mean(), )\n",
    "house_dataset_df.isna().sum()"
   ]
  },
  {
   "cell_type": "markdown",
   "id": "e2e9f5dc",
   "metadata": {},
   "source": [
    "## The correlation between the numerical columns"
   ]
  },
  {
   "cell_type": "code",
   "execution_count": null,
   "id": "cbd505ff",
   "metadata": {},
   "outputs": [],
   "source": [
    "Correlation = house_dataset_df.corr(numeric_only='numberic')"
   ]
  },
  {
   "cell_type": "markdown",
   "id": "90528910",
   "metadata": {},
   "source": [
    "## constructing heatmap to understand the correlation between the columns"
   ]
  },
  {
   "cell_type": "code",
   "execution_count": null,
   "id": "37b6db60",
   "metadata": {},
   "outputs": [],
   "source": [
    "plt.figure(figsize=(15, 7))\n",
    "sns.heatmap(Correlation, square=True, fmt='0.2f', cmap=\"YlGnBu\", annot=True, annot_kws={'size':9}, cbar=True,)\n",
    "plt.show()"
   ]
  },
  {
   "cell_type": "markdown",
   "id": "c89887fb",
   "metadata": {},
   "source": [
    "## Display all the columns\n"
   ]
  },
  {
   "cell_type": "code",
   "execution_count": null,
   "id": "b79912ba",
   "metadata": {},
   "outputs": [],
   "source": [
    "house_dataset_df.columns"
   ]
  },
  {
   "cell_type": "markdown",
   "id": "0a8e6365",
   "metadata": {},
   "source": [
    "## Histegram ploting for the columns that have higher correlations"
   ]
  },
  {
   "cell_type": "code",
   "execution_count": null,
   "id": "580df39a",
   "metadata": {},
   "outputs": [],
   "source": [
    "plt.hist(house_dataset_df['bedrooms'], bins=40)\n",
    "plt.show()"
   ]
  },
  {
   "cell_type": "code",
   "execution_count": null,
   "id": "aefe50b7",
   "metadata": {},
   "outputs": [],
   "source": [
    "house_dataset.head(1)"
   ]
  },
  {
   "cell_type": "code",
   "execution_count": null,
   "id": "9001e18c",
   "metadata": {},
   "outputs": [],
   "source": [
    "plt.hist(house_dataset_df['price'], bins=40)\n",
    "plt.show()"
   ]
  },
  {
   "cell_type": "code",
   "execution_count": null,
   "id": "dbe10c41",
   "metadata": {},
   "outputs": [],
   "source": [
    "plt.hist(house_dataset_df['area'], bins=40)\n",
    "plt.show()"
   ]
  },
  {
   "cell_type": "code",
   "execution_count": null,
   "id": "b8152c97",
   "metadata": {},
   "outputs": [],
   "source": [
    "plt.hist(house_dataset_df['bathrooms'], bins=40)\n",
    "plt.show()"
   ]
  },
  {
   "cell_type": "code",
   "execution_count": null,
   "id": "d7e19176",
   "metadata": {},
   "outputs": [],
   "source": [
    "plt.hist(house_dataset_df['stories'])\n",
    "plt.show()"
   ]
  },
  {
   "cell_type": "code",
   "execution_count": null,
   "id": "098298ce",
   "metadata": {},
   "outputs": [],
   "source": [
    "plt.hist(house_dataset_df['mainroad'])\n",
    "plt.show()"
   ]
  },
  {
   "cell_type": "code",
   "execution_count": null,
   "id": "5fbe0c9b",
   "metadata": {},
   "outputs": [],
   "source": [
    "plt.hist(house_dataset_df['guestroom'])\n",
    "plt.show() "
   ]
  },
  {
   "cell_type": "code",
   "execution_count": null,
   "id": "9d8abfb3",
   "metadata": {},
   "outputs": [],
   "source": [
    "plt.hist(house_dataset_df['basement'])\n",
    "plt.show()"
   ]
  },
  {
   "cell_type": "code",
   "execution_count": null,
   "id": "aebab18d",
   "metadata": {},
   "outputs": [],
   "source": [
    "plt.hist(house_dataset_df['hotwaterheating'])\n",
    "plt.show()"
   ]
  },
  {
   "cell_type": "code",
   "execution_count": null,
   "id": "01dea384",
   "metadata": {},
   "outputs": [],
   "source": [
    "plt.hist(house_dataset_df['airconditioning'])\n",
    "plt.show()"
   ]
  },
  {
   "cell_type": "code",
   "execution_count": null,
   "id": "942a06d2",
   "metadata": {},
   "outputs": [],
   "source": [
    "plt.hist(house_dataset_df['parking'])\n",
    "plt.show()"
   ]
  },
  {
   "cell_type": "code",
   "execution_count": null,
   "id": "d106d546",
   "metadata": {},
   "outputs": [],
   "source": [
    "plt.hist(house_dataset_df['prefarea'])\n",
    "plt.show()"
   ]
  },
  {
   "cell_type": "code",
   "execution_count": null,
   "id": "ed9f25e8",
   "metadata": {},
   "outputs": [],
   "source": [
    "plt.hist(house_dataset_df['furnishingstatus'])\n",
    "plt.show()"
   ]
  },
  {
   "cell_type": "markdown",
   "id": "ef37ed92",
   "metadata": {},
   "source": [
    "## Sprate the datainto train and test"
   ]
  },
  {
   "cell_type": "code",
   "execution_count": null,
   "id": "ccfb9e0c",
   "metadata": {},
   "outputs": [],
   "source": [
    "sns.boxplot(data=house_dataset, y=\"area\")\n",
    "plt.show()"
   ]
  },
  {
   "cell_type": "code",
   "execution_count": null,
   "id": "e46b966b",
   "metadata": {},
   "outputs": [],
   "source": [
    "plt.figure(figsize=(8, 6))\n",
    "plt.boxplot(x=house_dataset['price'], notch=True)\n",
    "plt.ylabel('price')"
   ]
  },
  {
   "cell_type": "code",
   "execution_count": null,
   "id": "f22ebb11",
   "metadata": {},
   "outputs": [],
   "source": [
    "sns.displot(data=house_dataset, x='price', kde=True)"
   ]
  },
  {
   "cell_type": "code",
   "execution_count": null,
   "id": "263cac38",
   "metadata": {},
   "outputs": [],
   "source": [
    "fig, axes = plt.subplots(1, 2, figsize=(10,5))\n",
    "sns.scatterplot(ax=axes[0], data=house_dataset, x='area', y='price', hue='mainroad', size=\"stories\", sizes=(10, 200), alpha=0.2)\n",
    "axes[0].legend(loc='center left', prop={'size': 8})\n",
    "markers = {'no':'X', 'yes':'o'}\n",
    "sns.scatterplot(ax=axes[1], data=house_dataset, x='area', y='price', style='mainroad', markers=markers, alpha=0.2)\n",
    "plt.tight_layout()\n",
    "plt.show()"
   ]
  },
  {
   "cell_type": "markdown",
   "id": "fe7b0cd6",
   "metadata": {},
   "source": [
    "## chech the null values"
   ]
  },
  {
   "cell_type": "code",
   "execution_count": null,
   "id": "710c89a1",
   "metadata": {},
   "outputs": [],
   "source": [
    "house_dataset.isna().sum()"
   ]
  },
  {
   "cell_type": "markdown",
   "id": "6f548fb0",
   "metadata": {},
   "source": [
    "## display the colu data"
   ]
  },
  {
   "cell_type": "code",
   "execution_count": null,
   "id": "9ecf7964",
   "metadata": {},
   "outputs": [],
   "source": [
    "cols=['mainroad','guestroom','basement','hotwaterheating','airconditioning','prefarea','furnishingstatus']\n",
    "le=LabelEncoder()\n",
    "for col in cols:\n",
    "    house_dataset[col]=le.fit_transform(house_dataset[col])"
   ]
  },
  {
   "cell_type": "markdown",
   "id": "5bd80c2f",
   "metadata": {},
   "source": [
    "## Spreate X and y and train test."
   ]
  },
  {
   "cell_type": "code",
   "execution_count": null,
   "id": "734f74ac",
   "metadata": {},
   "outputs": [],
   "source": [
    "X=house_dataset.drop('price',axis=1)\n",
    "y=house_dataset['price']\n",
    "X_train, X_test, y_train, y_test = train_test_split(X, y, test_size=0.33, random_state=42)"
   ]
  },
  {
   "cell_type": "markdown",
   "id": "031d241b",
   "metadata": {},
   "source": [
    "## Use leiner regration model"
   ]
  },
  {
   "cell_type": "code",
   "execution_count": null,
   "id": "a756d35b",
   "metadata": {},
   "outputs": [],
   "source": [
    "model=LinearRegression().fit(X_train,y_train)"
   ]
  },
  {
   "cell_type": "markdown",
   "id": "252d7cfc",
   "metadata": {},
   "source": [
    "## Product the result"
   ]
  },
  {
   "cell_type": "code",
   "execution_count": null,
   "id": "573e9b49",
   "metadata": {},
   "outputs": [],
   "source": [
    "predictions=model.predict(X_test)"
   ]
  },
  {
   "cell_type": "markdown",
   "id": "9b224948",
   "metadata": {},
   "source": [
    "## Visulaie the data"
   ]
  },
  {
   "cell_type": "code",
   "execution_count": null,
   "id": "14f589cb",
   "metadata": {},
   "outputs": [],
   "source": [
    "plt.scatter(y_test,predictions)\n",
    "plt.show()"
   ]
  },
  {
   "cell_type": "code",
   "execution_count": null,
   "id": "177b0b42",
   "metadata": {},
   "outputs": [],
   "source": [
    "predictions"
   ]
  },
  {
   "cell_type": "code",
   "execution_count": null,
   "id": "2cc9ef5e",
   "metadata": {},
   "outputs": [],
   "source": []
  },
  {
   "cell_type": "code",
   "execution_count": null,
   "id": "eac6b673",
   "metadata": {},
   "outputs": [],
   "source": []
  },
  {
   "cell_type": "code",
   "execution_count": null,
   "id": "b7696ac1",
   "metadata": {},
   "outputs": [],
   "source": []
  },
  {
   "cell_type": "code",
   "execution_count": null,
   "id": "7e161844",
   "metadata": {},
   "outputs": [],
   "source": []
  },
  {
   "cell_type": "code",
   "execution_count": null,
   "id": "61357429",
   "metadata": {},
   "outputs": [],
   "source": []
  },
  {
   "cell_type": "code",
   "execution_count": null,
   "id": "a44afc52",
   "metadata": {},
   "outputs": [],
   "source": []
  },
  {
   "cell_type": "code",
   "execution_count": null,
   "id": "7bf8a57c",
   "metadata": {},
   "outputs": [],
   "source": []
  },
  {
   "cell_type": "code",
   "execution_count": null,
   "id": "c6fb00eb",
   "metadata": {},
   "outputs": [],
   "source": []
  }
 ],
 "metadata": {
  "kernelspec": {
   "display_name": "Python 3 (ipykernel)",
   "language": "python",
   "name": "python3"
  },
  "language_info": {
   "codemirror_mode": {
    "name": "ipython",
    "version": 3
   },
   "file_extension": ".py",
   "mimetype": "text/x-python",
   "name": "python",
   "nbconvert_exporter": "python",
   "pygments_lexer": "ipython3",
   "version": "3.11.4"
  }
 },
 "nbformat": 4,
 "nbformat_minor": 5
}
