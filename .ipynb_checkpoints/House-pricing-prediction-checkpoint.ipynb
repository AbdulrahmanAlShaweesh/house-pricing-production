{
 "cells": [
  {
   "cell_type": "markdown",
   "id": "9d963bd3",
   "metadata": {},
   "source": [
    "# Loading the main libraries"
   ]
  },
  {
   "cell_type": "code",
   "execution_count": 14,
   "id": "79cdbdbb",
   "metadata": {},
   "outputs": [],
   "source": [
    "import numpy as np \n",
    "import pandas as pd \n",
    "import seaborn as sns\n",
    "import matplotlib.pyplot as plt \n",
    "import os \n",
    "import warnings \n",
    "from sklearn.model_selection import train_test_split \n",
    "from sklearn.linear_model import LinearRegression \n",
    "from sklearn.preprocessing import StandardScaler \n",
    "from sklearn.metrics import accuracy_score, r2_score\n",
    "from sklearn.preprocessing import LabelEncoder\n",
    "from sklearn.preprocessing import OneHotEncoder \n",
    "from sklearn.pipeline import Pipeline, FeatureUnion \n",
    "from sklearn.impute import SimpleImputer \n",
    "from sklearn_features.transformers import DataFrameSelector"
   ]
  },
  {
   "cell_type": "code",
   "execution_count": 15,
   "id": "943ca078",
   "metadata": {},
   "outputs": [],
   "source": [
    "# !pip install sklearn_Features ## instaling sklearn.features"
   ]
  },
  {
   "cell_type": "code",
   "execution_count": 17,
   "id": "82695b47",
   "metadata": {},
   "outputs": [],
   "source": [
    "warnings.filterwarnings('ignore')     # to ignore any error message\n",
    "%matplotlib inline                    # to show the plot in the juoyter"
   ]
  },
  {
   "cell_type": "markdown",
   "id": "7064de01",
   "metadata": {},
   "source": [
    "## Loading the data set and have an overview for the data"
   ]
  },
  {
   "cell_type": "code",
   "execution_count": 18,
   "id": "64d2ad4a",
   "metadata": {},
   "outputs": [],
   "source": [
    "house_pricing_df = pd.read_csv(\"housing.csv\")   # Read the dataset from csv file "
   ]
  },
  {
   "cell_type": "code",
   "execution_count": 13,
   "id": "08462211",
   "metadata": {},
   "outputs": [
    {
     "data": {
      "text/html": [
       "<div>\n",
       "<style scoped>\n",
       "    .dataframe tbody tr th:only-of-type {\n",
       "        vertical-align: middle;\n",
       "    }\n",
       "\n",
       "    .dataframe tbody tr th {\n",
       "        vertical-align: top;\n",
       "    }\n",
       "\n",
       "    .dataframe thead th {\n",
       "        text-align: right;\n",
       "    }\n",
       "</style>\n",
       "<table border=\"1\" class=\"dataframe\">\n",
       "  <thead>\n",
       "    <tr style=\"text-align: right;\">\n",
       "      <th></th>\n",
       "      <th>longitude</th>\n",
       "      <th>latitude</th>\n",
       "      <th>housing_median_age</th>\n",
       "      <th>total_rooms</th>\n",
       "      <th>total_bedrooms</th>\n",
       "      <th>population</th>\n",
       "      <th>households</th>\n",
       "      <th>median_income</th>\n",
       "      <th>median_house_value</th>\n",
       "      <th>ocean_proximity</th>\n",
       "    </tr>\n",
       "  </thead>\n",
       "  <tbody>\n",
       "    <tr>\n",
       "      <th>0</th>\n",
       "      <td>-122.23</td>\n",
       "      <td>37.88</td>\n",
       "      <td>41.0</td>\n",
       "      <td>880.0</td>\n",
       "      <td>129.0</td>\n",
       "      <td>322.0</td>\n",
       "      <td>126.0</td>\n",
       "      <td>8.3252</td>\n",
       "      <td>452600.0</td>\n",
       "      <td>NEAR BAY</td>\n",
       "    </tr>\n",
       "    <tr>\n",
       "      <th>1</th>\n",
       "      <td>-122.22</td>\n",
       "      <td>37.86</td>\n",
       "      <td>21.0</td>\n",
       "      <td>7099.0</td>\n",
       "      <td>1106.0</td>\n",
       "      <td>2401.0</td>\n",
       "      <td>1138.0</td>\n",
       "      <td>8.3014</td>\n",
       "      <td>358500.0</td>\n",
       "      <td>NEAR BAY</td>\n",
       "    </tr>\n",
       "    <tr>\n",
       "      <th>2</th>\n",
       "      <td>-122.24</td>\n",
       "      <td>37.85</td>\n",
       "      <td>52.0</td>\n",
       "      <td>1467.0</td>\n",
       "      <td>190.0</td>\n",
       "      <td>496.0</td>\n",
       "      <td>177.0</td>\n",
       "      <td>7.2574</td>\n",
       "      <td>352100.0</td>\n",
       "      <td>NEAR BAY</td>\n",
       "    </tr>\n",
       "    <tr>\n",
       "      <th>3</th>\n",
       "      <td>-122.25</td>\n",
       "      <td>37.85</td>\n",
       "      <td>52.0</td>\n",
       "      <td>1274.0</td>\n",
       "      <td>235.0</td>\n",
       "      <td>558.0</td>\n",
       "      <td>219.0</td>\n",
       "      <td>5.6431</td>\n",
       "      <td>341300.0</td>\n",
       "      <td>NEAR BAY</td>\n",
       "    </tr>\n",
       "    <tr>\n",
       "      <th>4</th>\n",
       "      <td>-122.25</td>\n",
       "      <td>37.85</td>\n",
       "      <td>52.0</td>\n",
       "      <td>1627.0</td>\n",
       "      <td>280.0</td>\n",
       "      <td>565.0</td>\n",
       "      <td>259.0</td>\n",
       "      <td>3.8462</td>\n",
       "      <td>342200.0</td>\n",
       "      <td>NEAR BAY</td>\n",
       "    </tr>\n",
       "  </tbody>\n",
       "</table>\n",
       "</div>"
      ],
      "text/plain": [
       "   longitude  latitude  housing_median_age  total_rooms  total_bedrooms  \\\n",
       "0    -122.23     37.88                41.0        880.0           129.0   \n",
       "1    -122.22     37.86                21.0       7099.0          1106.0   \n",
       "2    -122.24     37.85                52.0       1467.0           190.0   \n",
       "3    -122.25     37.85                52.0       1274.0           235.0   \n",
       "4    -122.25     37.85                52.0       1627.0           280.0   \n",
       "\n",
       "   population  households  median_income  median_house_value ocean_proximity  \n",
       "0       322.0       126.0         8.3252            452600.0        NEAR BAY  \n",
       "1      2401.0      1138.0         8.3014            358500.0        NEAR BAY  \n",
       "2       496.0       177.0         7.2574            352100.0        NEAR BAY  \n",
       "3       558.0       219.0         5.6431            341300.0        NEAR BAY  \n",
       "4       565.0       259.0         3.8462            342200.0        NEAR BAY  "
      ]
     },
     "execution_count": 13,
     "metadata": {},
     "output_type": "execute_result"
    }
   ],
   "source": [
    "first5_rows = house_pricing_df.head(n=5)        # show the first 5 rows in the dataFrame\n",
    "first5_rows"
   ]
  },
  {
   "cell_type": "code",
   "execution_count": 19,
   "id": "57d5e3df",
   "metadata": {},
   "outputs": [
    {
     "data": {
      "text/html": [
       "<div>\n",
       "<style scoped>\n",
       "    .dataframe tbody tr th:only-of-type {\n",
       "        vertical-align: middle;\n",
       "    }\n",
       "\n",
       "    .dataframe tbody tr th {\n",
       "        vertical-align: top;\n",
       "    }\n",
       "\n",
       "    .dataframe thead th {\n",
       "        text-align: right;\n",
       "    }\n",
       "</style>\n",
       "<table border=\"1\" class=\"dataframe\">\n",
       "  <thead>\n",
       "    <tr style=\"text-align: right;\">\n",
       "      <th></th>\n",
       "      <th>longitude</th>\n",
       "      <th>latitude</th>\n",
       "      <th>housing_median_age</th>\n",
       "      <th>total_rooms</th>\n",
       "      <th>total_bedrooms</th>\n",
       "      <th>population</th>\n",
       "      <th>households</th>\n",
       "      <th>median_income</th>\n",
       "      <th>median_house_value</th>\n",
       "      <th>ocean_proximity</th>\n",
       "    </tr>\n",
       "  </thead>\n",
       "  <tbody>\n",
       "    <tr>\n",
       "      <th>20635</th>\n",
       "      <td>-121.09</td>\n",
       "      <td>39.48</td>\n",
       "      <td>25.0</td>\n",
       "      <td>1665.0</td>\n",
       "      <td>374.0</td>\n",
       "      <td>845.0</td>\n",
       "      <td>330.0</td>\n",
       "      <td>1.5603</td>\n",
       "      <td>78100.0</td>\n",
       "      <td>INLAND</td>\n",
       "    </tr>\n",
       "    <tr>\n",
       "      <th>20636</th>\n",
       "      <td>-121.21</td>\n",
       "      <td>39.49</td>\n",
       "      <td>18.0</td>\n",
       "      <td>697.0</td>\n",
       "      <td>150.0</td>\n",
       "      <td>356.0</td>\n",
       "      <td>114.0</td>\n",
       "      <td>2.5568</td>\n",
       "      <td>77100.0</td>\n",
       "      <td>INLAND</td>\n",
       "    </tr>\n",
       "    <tr>\n",
       "      <th>20637</th>\n",
       "      <td>-121.22</td>\n",
       "      <td>39.43</td>\n",
       "      <td>17.0</td>\n",
       "      <td>2254.0</td>\n",
       "      <td>485.0</td>\n",
       "      <td>1007.0</td>\n",
       "      <td>433.0</td>\n",
       "      <td>1.7000</td>\n",
       "      <td>92300.0</td>\n",
       "      <td>INLAND</td>\n",
       "    </tr>\n",
       "    <tr>\n",
       "      <th>20638</th>\n",
       "      <td>-121.32</td>\n",
       "      <td>39.43</td>\n",
       "      <td>18.0</td>\n",
       "      <td>1860.0</td>\n",
       "      <td>409.0</td>\n",
       "      <td>741.0</td>\n",
       "      <td>349.0</td>\n",
       "      <td>1.8672</td>\n",
       "      <td>84700.0</td>\n",
       "      <td>INLAND</td>\n",
       "    </tr>\n",
       "    <tr>\n",
       "      <th>20639</th>\n",
       "      <td>-121.24</td>\n",
       "      <td>39.37</td>\n",
       "      <td>16.0</td>\n",
       "      <td>2785.0</td>\n",
       "      <td>616.0</td>\n",
       "      <td>1387.0</td>\n",
       "      <td>530.0</td>\n",
       "      <td>2.3886</td>\n",
       "      <td>89400.0</td>\n",
       "      <td>INLAND</td>\n",
       "    </tr>\n",
       "  </tbody>\n",
       "</table>\n",
       "</div>"
      ],
      "text/plain": [
       "       longitude  latitude  housing_median_age  total_rooms  total_bedrooms  \\\n",
       "20635    -121.09     39.48                25.0       1665.0           374.0   \n",
       "20636    -121.21     39.49                18.0        697.0           150.0   \n",
       "20637    -121.22     39.43                17.0       2254.0           485.0   \n",
       "20638    -121.32     39.43                18.0       1860.0           409.0   \n",
       "20639    -121.24     39.37                16.0       2785.0           616.0   \n",
       "\n",
       "       population  households  median_income  median_house_value  \\\n",
       "20635       845.0       330.0         1.5603             78100.0   \n",
       "20636       356.0       114.0         2.5568             77100.0   \n",
       "20637      1007.0       433.0         1.7000             92300.0   \n",
       "20638       741.0       349.0         1.8672             84700.0   \n",
       "20639      1387.0       530.0         2.3886             89400.0   \n",
       "\n",
       "      ocean_proximity  \n",
       "20635          INLAND  \n",
       "20636          INLAND  \n",
       "20637          INLAND  \n",
       "20638          INLAND  \n",
       "20639          INLAND  "
      ]
     },
     "execution_count": 19,
     "metadata": {},
     "output_type": "execute_result"
    }
   ],
   "source": [
    "last5_rows = house_pricing_df.tail(n=5)         # show the last 5 rows\n",
    "last5_rows"
   ]
  },
  {
   "cell_type": "code",
   "execution_count": 20,
   "id": "e771de64",
   "metadata": {},
   "outputs": [],
   "source": [
    "pd.options.display.min_rows = 20           # allow to show up to 20 rows in a single cell"
   ]
  },
  {
   "cell_type": "code",
   "execution_count": 23,
   "id": "d9431293",
   "metadata": {},
   "outputs": [
    {
     "data": {
      "text/html": [
       "<style type=\"text/css\">\n",
       "#T_d532e_row0_col0 {\n",
       "  background-color: #bc141a;\n",
       "  color: #f1f1f1;\n",
       "}\n",
       "#T_d532e_row0_col1, #T_d532e_row0_col7, #T_d532e_row0_col8, #T_d532e_row1_col0, #T_d532e_row1_col3, #T_d532e_row1_col4, #T_d532e_row1_col5, #T_d532e_row1_col6, #T_d532e_row1_col7, #T_d532e_row2_col2, #T_d532e_row3_col2, #T_d532e_row4_col2, #T_d532e_row5_col2, #T_d532e_row6_col2, #T_d532e_row7_col2, #T_d532e_row9_col2, #T_d532e_row10_col2, #T_d532e_row11_col2, #T_d532e_row12_col2, #T_d532e_row13_col2, #T_d532e_row14_col2, #T_d532e_row16_col2, #T_d532e_row17_col2, #T_d532e_row19_col2 {\n",
       "  background-color: #67000d;\n",
       "  color: #f1f1f1;\n",
       "}\n",
       "#T_d532e_row0_col2, #T_d532e_row4_col8 {\n",
       "  background-color: #e93529;\n",
       "  color: #f1f1f1;\n",
       "}\n",
       "#T_d532e_row0_col3 {\n",
       "  background-color: #fff0e9;\n",
       "  color: #000000;\n",
       "}\n",
       "#T_d532e_row0_col4, #T_d532e_row0_col5, #T_d532e_row0_col6, #T_d532e_row1_col2, #T_d532e_row6_col1, #T_d532e_row7_col1, #T_d532e_row8_col1, #T_d532e_row9_col1, #T_d532e_row13_col1, #T_d532e_row13_col3, #T_d532e_row14_col7, #T_d532e_row15_col8, #T_d532e_row16_col0, #T_d532e_row17_col0, #T_d532e_row18_col1, #T_d532e_row19_col0, #T_d532e_row19_col1 {\n",
       "  background-color: #fff5f0;\n",
       "  color: #000000;\n",
       "}\n",
       "#T_d532e_row1_col1 {\n",
       "  background-color: #fb6b4b;\n",
       "  color: #f1f1f1;\n",
       "}\n",
       "#T_d532e_row1_col8 {\n",
       "  background-color: #da2723;\n",
       "  color: #f1f1f1;\n",
       "}\n",
       "#T_d532e_row2_col0, #T_d532e_row11_col6 {\n",
       "  background-color: #f14432;\n",
       "  color: #f1f1f1;\n",
       "}\n",
       "#T_d532e_row2_col1, #T_d532e_row3_col1, #T_d532e_row4_col1, #T_d532e_row5_col1, #T_d532e_row10_col1, #T_d532e_row11_col1, #T_d532e_row12_col1, #T_d532e_row14_col1, #T_d532e_row15_col1, #T_d532e_row16_col1, #T_d532e_row17_col1 {\n",
       "  background-color: #fcbca2;\n",
       "  color: #000000;\n",
       "}\n",
       "#T_d532e_row2_col3, #T_d532e_row13_col7 {\n",
       "  background-color: #fee1d4;\n",
       "  color: #000000;\n",
       "}\n",
       "#T_d532e_row2_col4, #T_d532e_row14_col8, #T_d532e_row18_col8 {\n",
       "  background-color: #ffebe2;\n",
       "  color: #000000;\n",
       "}\n",
       "#T_d532e_row2_col5, #T_d532e_row17_col3 {\n",
       "  background-color: #fee7dc;\n",
       "  color: #000000;\n",
       "}\n",
       "#T_d532e_row2_col6, #T_d532e_row13_col6, #T_d532e_row17_col8 {\n",
       "  background-color: #ffede5;\n",
       "  color: #000000;\n",
       "}\n",
       "#T_d532e_row2_col7 {\n",
       "  background-color: #b11218;\n",
       "  color: #f1f1f1;\n",
       "}\n",
       "#T_d532e_row2_col8, #T_d532e_row8_col2 {\n",
       "  background-color: #e02c26;\n",
       "  color: #f1f1f1;\n",
       "}\n",
       "#T_d532e_row3_col0, #T_d532e_row4_col0, #T_d532e_row5_col0, #T_d532e_row6_col0, #T_d532e_row7_col0, #T_d532e_row7_col5, #T_d532e_row9_col0 {\n",
       "  background-color: #fc8a6a;\n",
       "  color: #f1f1f1;\n",
       "}\n",
       "#T_d532e_row3_col3, #T_d532e_row3_col6 {\n",
       "  background-color: #fee6da;\n",
       "  color: #000000;\n",
       "}\n",
       "#T_d532e_row3_col4, #T_d532e_row19_col7 {\n",
       "  background-color: #fee3d7;\n",
       "  color: #000000;\n",
       "}\n",
       "#T_d532e_row3_col5, #T_d532e_row4_col5 {\n",
       "  background-color: #fee2d5;\n",
       "  color: #000000;\n",
       "}\n",
       "#T_d532e_row3_col7, #T_d532e_row9_col6 {\n",
       "  background-color: #f34c37;\n",
       "  color: #f1f1f1;\n",
       "}\n",
       "#T_d532e_row3_col8 {\n",
       "  background-color: #ea362a;\n",
       "  color: #f1f1f1;\n",
       "}\n",
       "#T_d532e_row4_col3, #T_d532e_row19_col6 {\n",
       "  background-color: #fedaca;\n",
       "  color: #000000;\n",
       "}\n",
       "#T_d532e_row4_col4 {\n",
       "  background-color: #fed8c7;\n",
       "  color: #000000;\n",
       "}\n",
       "#T_d532e_row4_col6 {\n",
       "  background-color: #fedfd0;\n",
       "  color: #000000;\n",
       "}\n",
       "#T_d532e_row4_col7, #T_d532e_row14_col3 {\n",
       "  background-color: #fcaa8d;\n",
       "  color: #000000;\n",
       "}\n",
       "#T_d532e_row5_col3, #T_d532e_row15_col7, #T_d532e_row17_col7 {\n",
       "  background-color: #fff0e8;\n",
       "  color: #000000;\n",
       "}\n",
       "#T_d532e_row5_col4 {\n",
       "  background-color: #fee7db;\n",
       "  color: #000000;\n",
       "}\n",
       "#T_d532e_row5_col5 {\n",
       "  background-color: #ffeee6;\n",
       "  color: #000000;\n",
       "}\n",
       "#T_d532e_row5_col6, #T_d532e_row13_col4, #T_d532e_row15_col3 {\n",
       "  background-color: #feeae1;\n",
       "  color: #000000;\n",
       "}\n",
       "#T_d532e_row5_col7 {\n",
       "  background-color: #fca183;\n",
       "  color: #000000;\n",
       "}\n",
       "#T_d532e_row5_col8 {\n",
       "  background-color: #fc8565;\n",
       "  color: #f1f1f1;\n",
       "}\n",
       "#T_d532e_row6_col3 {\n",
       "  background-color: #fcaf93;\n",
       "  color: #000000;\n",
       "}\n",
       "#T_d532e_row6_col4 {\n",
       "  background-color: #fc9474;\n",
       "  color: #000000;\n",
       "}\n",
       "#T_d532e_row6_col5, #T_d532e_row12_col5 {\n",
       "  background-color: #fc9373;\n",
       "  color: #000000;\n",
       "}\n",
       "#T_d532e_row6_col6 {\n",
       "  background-color: #fc8f6f;\n",
       "  color: #000000;\n",
       "}\n",
       "#T_d532e_row6_col7, #T_d532e_row10_col6 {\n",
       "  background-color: #fcb499;\n",
       "  color: #000000;\n",
       "}\n",
       "#T_d532e_row6_col8, #T_d532e_row14_col4 {\n",
       "  background-color: #fa6648;\n",
       "  color: #f1f1f1;\n",
       "}\n",
       "#T_d532e_row7_col3 {\n",
       "  background-color: #fc9272;\n",
       "  color: #000000;\n",
       "}\n",
       "#T_d532e_row7_col4 {\n",
       "  background-color: #f44f39;\n",
       "  color: #f1f1f1;\n",
       "}\n",
       "#T_d532e_row7_col6 {\n",
       "  background-color: #fa6547;\n",
       "  color: #f1f1f1;\n",
       "}\n",
       "#T_d532e_row7_col7 {\n",
       "  background-color: #fdcdb9;\n",
       "  color: #000000;\n",
       "}\n",
       "#T_d532e_row7_col8, #T_d532e_row11_col8 {\n",
       "  background-color: #fca285;\n",
       "  color: #000000;\n",
       "}\n",
       "#T_d532e_row8_col0, #T_d532e_row10_col0, #T_d532e_row10_col7, #T_d532e_row11_col0, #T_d532e_row12_col0, #T_d532e_row13_col0, #T_d532e_row14_col0, #T_d532e_row15_col0, #T_d532e_row16_col6, #T_d532e_row18_col0 {\n",
       "  background-color: #fdcab5;\n",
       "  color: #000000;\n",
       "}\n",
       "#T_d532e_row8_col3, #T_d532e_row18_col6 {\n",
       "  background-color: #fcae92;\n",
       "  color: #000000;\n",
       "}\n",
       "#T_d532e_row8_col4 {\n",
       "  background-color: #f6583e;\n",
       "  color: #f1f1f1;\n",
       "}\n",
       "#T_d532e_row8_col5 {\n",
       "  background-color: #fc8262;\n",
       "  color: #f1f1f1;\n",
       "}\n",
       "#T_d532e_row8_col6 {\n",
       "  background-color: #fb7656;\n",
       "  color: #f1f1f1;\n",
       "}\n",
       "#T_d532e_row8_col7 {\n",
       "  background-color: #fff1ea;\n",
       "  color: #000000;\n",
       "}\n",
       "#T_d532e_row8_col8, #T_d532e_row12_col3 {\n",
       "  background-color: #fcb296;\n",
       "  color: #000000;\n",
       "}\n",
       "#T_d532e_row9_col3 {\n",
       "  background-color: #fb7b5b;\n",
       "  color: #f1f1f1;\n",
       "}\n",
       "#T_d532e_row9_col4, #T_d532e_row9_col5 {\n",
       "  background-color: #f24734;\n",
       "  color: #f1f1f1;\n",
       "}\n",
       "#T_d532e_row9_col7 {\n",
       "  background-color: #fcb398;\n",
       "  color: #000000;\n",
       "}\n",
       "#T_d532e_row9_col8 {\n",
       "  background-color: #fc8e6e;\n",
       "  color: #000000;\n",
       "}\n",
       "#T_d532e_row10_col3, #T_d532e_row12_col8 {\n",
       "  background-color: #fcbfa7;\n",
       "  color: #000000;\n",
       "}\n",
       "#T_d532e_row10_col4 {\n",
       "  background-color: #fca78b;\n",
       "  color: #000000;\n",
       "}\n",
       "#T_d532e_row10_col5 {\n",
       "  background-color: #fcb095;\n",
       "  color: #000000;\n",
       "}\n",
       "#T_d532e_row10_col8 {\n",
       "  background-color: #fb7a5a;\n",
       "  color: #f1f1f1;\n",
       "}\n",
       "#T_d532e_row11_col3 {\n",
       "  background-color: #fb7d5d;\n",
       "  color: #f1f1f1;\n",
       "}\n",
       "#T_d532e_row11_col4 {\n",
       "  background-color: #eb372a;\n",
       "  color: #f1f1f1;\n",
       "}\n",
       "#T_d532e_row11_col5 {\n",
       "  background-color: #f4503a;\n",
       "  color: #f1f1f1;\n",
       "}\n",
       "#T_d532e_row11_col7 {\n",
       "  background-color: #fdc6b0;\n",
       "  color: #000000;\n",
       "}\n",
       "#T_d532e_row12_col4 {\n",
       "  background-color: #fc997a;\n",
       "  color: #000000;\n",
       "}\n",
       "#T_d532e_row12_col6 {\n",
       "  background-color: #fc9e80;\n",
       "  color: #000000;\n",
       "}\n",
       "#T_d532e_row12_col7, #T_d532e_row15_col5 {\n",
       "  background-color: #fdd0bc;\n",
       "  color: #000000;\n",
       "}\n",
       "#T_d532e_row13_col5, #T_d532e_row18_col7 {\n",
       "  background-color: #fff4ee;\n",
       "  color: #000000;\n",
       "}\n",
       "#T_d532e_row13_col8, #T_d532e_row17_col4 {\n",
       "  background-color: #fdd4c2;\n",
       "  color: #000000;\n",
       "}\n",
       "#T_d532e_row14_col5 {\n",
       "  background-color: #fc8161;\n",
       "  color: #f1f1f1;\n",
       "}\n",
       "#T_d532e_row14_col6 {\n",
       "  background-color: #fb6e4e;\n",
       "  color: #f1f1f1;\n",
       "}\n",
       "#T_d532e_row15_col2, #T_d532e_row18_col2 {\n",
       "  background-color: #860811;\n",
       "  color: #f1f1f1;\n",
       "}\n",
       "#T_d532e_row15_col4, #T_d532e_row17_col5 {\n",
       "  background-color: #fdd7c6;\n",
       "  color: #000000;\n",
       "}\n",
       "#T_d532e_row15_col6, #T_d532e_row16_col7 {\n",
       "  background-color: #fedecf;\n",
       "  color: #000000;\n",
       "}\n",
       "#T_d532e_row16_col3 {\n",
       "  background-color: #fdcbb6;\n",
       "  color: #000000;\n",
       "}\n",
       "#T_d532e_row16_col4, #T_d532e_row16_col5 {\n",
       "  background-color: #fcc3ab;\n",
       "  color: #000000;\n",
       "}\n",
       "#T_d532e_row16_col8 {\n",
       "  background-color: #ffeee7;\n",
       "  color: #000000;\n",
       "}\n",
       "#T_d532e_row17_col6, #T_d532e_row19_col4 {\n",
       "  background-color: #fdd2bf;\n",
       "  color: #000000;\n",
       "}\n",
       "#T_d532e_row18_col3 {\n",
       "  background-color: #fcbea5;\n",
       "  color: #000000;\n",
       "}\n",
       "#T_d532e_row18_col4 {\n",
       "  background-color: #fca082;\n",
       "  color: #000000;\n",
       "}\n",
       "#T_d532e_row18_col5 {\n",
       "  background-color: #fca486;\n",
       "  color: #000000;\n",
       "}\n",
       "#T_d532e_row19_col3 {\n",
       "  background-color: #fee0d2;\n",
       "  color: #000000;\n",
       "}\n",
       "#T_d532e_row19_col5 {\n",
       "  background-color: #fdd1be;\n",
       "  color: #000000;\n",
       "}\n",
       "#T_d532e_row19_col8 {\n",
       "  background-color: #fee9df;\n",
       "  color: #000000;\n",
       "}\n",
       "</style>\n",
       "<table id=\"T_d532e\">\n",
       "  <thead>\n",
       "    <tr>\n",
       "      <th class=\"blank level0\" >&nbsp;</th>\n",
       "      <th id=\"T_d532e_level0_col0\" class=\"col_heading level0 col0\" >longitude</th>\n",
       "      <th id=\"T_d532e_level0_col1\" class=\"col_heading level0 col1\" >latitude</th>\n",
       "      <th id=\"T_d532e_level0_col2\" class=\"col_heading level0 col2\" >housing_median_age</th>\n",
       "      <th id=\"T_d532e_level0_col3\" class=\"col_heading level0 col3\" >total_rooms</th>\n",
       "      <th id=\"T_d532e_level0_col4\" class=\"col_heading level0 col4\" >total_bedrooms</th>\n",
       "      <th id=\"T_d532e_level0_col5\" class=\"col_heading level0 col5\" >population</th>\n",
       "      <th id=\"T_d532e_level0_col6\" class=\"col_heading level0 col6\" >households</th>\n",
       "      <th id=\"T_d532e_level0_col7\" class=\"col_heading level0 col7\" >median_income</th>\n",
       "      <th id=\"T_d532e_level0_col8\" class=\"col_heading level0 col8\" >median_house_value</th>\n",
       "      <th id=\"T_d532e_level0_col9\" class=\"col_heading level0 col9\" >ocean_proximity</th>\n",
       "    </tr>\n",
       "  </thead>\n",
       "  <tbody>\n",
       "    <tr>\n",
       "      <th id=\"T_d532e_level0_row0\" class=\"row_heading level0 row0\" >0</th>\n",
       "      <td id=\"T_d532e_row0_col0\" class=\"data row0 col0\" >-122.230000</td>\n",
       "      <td id=\"T_d532e_row0_col1\" class=\"data row0 col1\" >37.880000</td>\n",
       "      <td id=\"T_d532e_row0_col2\" class=\"data row0 col2\" >41.000000</td>\n",
       "      <td id=\"T_d532e_row0_col3\" class=\"data row0 col3\" >880.000000</td>\n",
       "      <td id=\"T_d532e_row0_col4\" class=\"data row0 col4\" >129.000000</td>\n",
       "      <td id=\"T_d532e_row0_col5\" class=\"data row0 col5\" >322.000000</td>\n",
       "      <td id=\"T_d532e_row0_col6\" class=\"data row0 col6\" >126.000000</td>\n",
       "      <td id=\"T_d532e_row0_col7\" class=\"data row0 col7\" >8.325200</td>\n",
       "      <td id=\"T_d532e_row0_col8\" class=\"data row0 col8\" >452600.000000</td>\n",
       "      <td id=\"T_d532e_row0_col9\" class=\"data row0 col9\" >NEAR BAY</td>\n",
       "    </tr>\n",
       "    <tr>\n",
       "      <th id=\"T_d532e_level0_row1\" class=\"row_heading level0 row1\" >1</th>\n",
       "      <td id=\"T_d532e_row1_col0\" class=\"data row1 col0\" >-122.220000</td>\n",
       "      <td id=\"T_d532e_row1_col1\" class=\"data row1 col1\" >37.860000</td>\n",
       "      <td id=\"T_d532e_row1_col2\" class=\"data row1 col2\" >21.000000</td>\n",
       "      <td id=\"T_d532e_row1_col3\" class=\"data row1 col3\" >7099.000000</td>\n",
       "      <td id=\"T_d532e_row1_col4\" class=\"data row1 col4\" >1106.000000</td>\n",
       "      <td id=\"T_d532e_row1_col5\" class=\"data row1 col5\" >2401.000000</td>\n",
       "      <td id=\"T_d532e_row1_col6\" class=\"data row1 col6\" >1138.000000</td>\n",
       "      <td id=\"T_d532e_row1_col7\" class=\"data row1 col7\" >8.301400</td>\n",
       "      <td id=\"T_d532e_row1_col8\" class=\"data row1 col8\" >358500.000000</td>\n",
       "      <td id=\"T_d532e_row1_col9\" class=\"data row1 col9\" >NEAR BAY</td>\n",
       "    </tr>\n",
       "    <tr>\n",
       "      <th id=\"T_d532e_level0_row2\" class=\"row_heading level0 row2\" >2</th>\n",
       "      <td id=\"T_d532e_row2_col0\" class=\"data row2 col0\" >-122.240000</td>\n",
       "      <td id=\"T_d532e_row2_col1\" class=\"data row2 col1\" >37.850000</td>\n",
       "      <td id=\"T_d532e_row2_col2\" class=\"data row2 col2\" >52.000000</td>\n",
       "      <td id=\"T_d532e_row2_col3\" class=\"data row2 col3\" >1467.000000</td>\n",
       "      <td id=\"T_d532e_row2_col4\" class=\"data row2 col4\" >190.000000</td>\n",
       "      <td id=\"T_d532e_row2_col5\" class=\"data row2 col5\" >496.000000</td>\n",
       "      <td id=\"T_d532e_row2_col6\" class=\"data row2 col6\" >177.000000</td>\n",
       "      <td id=\"T_d532e_row2_col7\" class=\"data row2 col7\" >7.257400</td>\n",
       "      <td id=\"T_d532e_row2_col8\" class=\"data row2 col8\" >352100.000000</td>\n",
       "      <td id=\"T_d532e_row2_col9\" class=\"data row2 col9\" >NEAR BAY</td>\n",
       "    </tr>\n",
       "    <tr>\n",
       "      <th id=\"T_d532e_level0_row3\" class=\"row_heading level0 row3\" >3</th>\n",
       "      <td id=\"T_d532e_row3_col0\" class=\"data row3 col0\" >-122.250000</td>\n",
       "      <td id=\"T_d532e_row3_col1\" class=\"data row3 col1\" >37.850000</td>\n",
       "      <td id=\"T_d532e_row3_col2\" class=\"data row3 col2\" >52.000000</td>\n",
       "      <td id=\"T_d532e_row3_col3\" class=\"data row3 col3\" >1274.000000</td>\n",
       "      <td id=\"T_d532e_row3_col4\" class=\"data row3 col4\" >235.000000</td>\n",
       "      <td id=\"T_d532e_row3_col5\" class=\"data row3 col5\" >558.000000</td>\n",
       "      <td id=\"T_d532e_row3_col6\" class=\"data row3 col6\" >219.000000</td>\n",
       "      <td id=\"T_d532e_row3_col7\" class=\"data row3 col7\" >5.643100</td>\n",
       "      <td id=\"T_d532e_row3_col8\" class=\"data row3 col8\" >341300.000000</td>\n",
       "      <td id=\"T_d532e_row3_col9\" class=\"data row3 col9\" >NEAR BAY</td>\n",
       "    </tr>\n",
       "    <tr>\n",
       "      <th id=\"T_d532e_level0_row4\" class=\"row_heading level0 row4\" >4</th>\n",
       "      <td id=\"T_d532e_row4_col0\" class=\"data row4 col0\" >-122.250000</td>\n",
       "      <td id=\"T_d532e_row4_col1\" class=\"data row4 col1\" >37.850000</td>\n",
       "      <td id=\"T_d532e_row4_col2\" class=\"data row4 col2\" >52.000000</td>\n",
       "      <td id=\"T_d532e_row4_col3\" class=\"data row4 col3\" >1627.000000</td>\n",
       "      <td id=\"T_d532e_row4_col4\" class=\"data row4 col4\" >280.000000</td>\n",
       "      <td id=\"T_d532e_row4_col5\" class=\"data row4 col5\" >565.000000</td>\n",
       "      <td id=\"T_d532e_row4_col6\" class=\"data row4 col6\" >259.000000</td>\n",
       "      <td id=\"T_d532e_row4_col7\" class=\"data row4 col7\" >3.846200</td>\n",
       "      <td id=\"T_d532e_row4_col8\" class=\"data row4 col8\" >342200.000000</td>\n",
       "      <td id=\"T_d532e_row4_col9\" class=\"data row4 col9\" >NEAR BAY</td>\n",
       "    </tr>\n",
       "    <tr>\n",
       "      <th id=\"T_d532e_level0_row5\" class=\"row_heading level0 row5\" >5</th>\n",
       "      <td id=\"T_d532e_row5_col0\" class=\"data row5 col0\" >-122.250000</td>\n",
       "      <td id=\"T_d532e_row5_col1\" class=\"data row5 col1\" >37.850000</td>\n",
       "      <td id=\"T_d532e_row5_col2\" class=\"data row5 col2\" >52.000000</td>\n",
       "      <td id=\"T_d532e_row5_col3\" class=\"data row5 col3\" >919.000000</td>\n",
       "      <td id=\"T_d532e_row5_col4\" class=\"data row5 col4\" >213.000000</td>\n",
       "      <td id=\"T_d532e_row5_col5\" class=\"data row5 col5\" >413.000000</td>\n",
       "      <td id=\"T_d532e_row5_col6\" class=\"data row5 col6\" >193.000000</td>\n",
       "      <td id=\"T_d532e_row5_col7\" class=\"data row5 col7\" >4.036800</td>\n",
       "      <td id=\"T_d532e_row5_col8\" class=\"data row5 col8\" >269700.000000</td>\n",
       "      <td id=\"T_d532e_row5_col9\" class=\"data row5 col9\" >NEAR BAY</td>\n",
       "    </tr>\n",
       "    <tr>\n",
       "      <th id=\"T_d532e_level0_row6\" class=\"row_heading level0 row6\" >6</th>\n",
       "      <td id=\"T_d532e_row6_col0\" class=\"data row6 col0\" >-122.250000</td>\n",
       "      <td id=\"T_d532e_row6_col1\" class=\"data row6 col1\" >37.840000</td>\n",
       "      <td id=\"T_d532e_row6_col2\" class=\"data row6 col2\" >52.000000</td>\n",
       "      <td id=\"T_d532e_row6_col3\" class=\"data row6 col3\" >2535.000000</td>\n",
       "      <td id=\"T_d532e_row6_col4\" class=\"data row6 col4\" >489.000000</td>\n",
       "      <td id=\"T_d532e_row6_col5\" class=\"data row6 col5\" >1094.000000</td>\n",
       "      <td id=\"T_d532e_row6_col6\" class=\"data row6 col6\" >514.000000</td>\n",
       "      <td id=\"T_d532e_row6_col7\" class=\"data row6 col7\" >3.659100</td>\n",
       "      <td id=\"T_d532e_row6_col8\" class=\"data row6 col8\" >299200.000000</td>\n",
       "      <td id=\"T_d532e_row6_col9\" class=\"data row6 col9\" >NEAR BAY</td>\n",
       "    </tr>\n",
       "    <tr>\n",
       "      <th id=\"T_d532e_level0_row7\" class=\"row_heading level0 row7\" >7</th>\n",
       "      <td id=\"T_d532e_row7_col0\" class=\"data row7 col0\" >-122.250000</td>\n",
       "      <td id=\"T_d532e_row7_col1\" class=\"data row7 col1\" >37.840000</td>\n",
       "      <td id=\"T_d532e_row7_col2\" class=\"data row7 col2\" >52.000000</td>\n",
       "      <td id=\"T_d532e_row7_col3\" class=\"data row7 col3\" >3104.000000</td>\n",
       "      <td id=\"T_d532e_row7_col4\" class=\"data row7 col4\" >687.000000</td>\n",
       "      <td id=\"T_d532e_row7_col5\" class=\"data row7 col5\" >1157.000000</td>\n",
       "      <td id=\"T_d532e_row7_col6\" class=\"data row7 col6\" >647.000000</td>\n",
       "      <td id=\"T_d532e_row7_col7\" class=\"data row7 col7\" >3.120000</td>\n",
       "      <td id=\"T_d532e_row7_col8\" class=\"data row7 col8\" >241400.000000</td>\n",
       "      <td id=\"T_d532e_row7_col9\" class=\"data row7 col9\" >NEAR BAY</td>\n",
       "    </tr>\n",
       "    <tr>\n",
       "      <th id=\"T_d532e_level0_row8\" class=\"row_heading level0 row8\" >8</th>\n",
       "      <td id=\"T_d532e_row8_col0\" class=\"data row8 col0\" >-122.260000</td>\n",
       "      <td id=\"T_d532e_row8_col1\" class=\"data row8 col1\" >37.840000</td>\n",
       "      <td id=\"T_d532e_row8_col2\" class=\"data row8 col2\" >42.000000</td>\n",
       "      <td id=\"T_d532e_row8_col3\" class=\"data row8 col3\" >2555.000000</td>\n",
       "      <td id=\"T_d532e_row8_col4\" class=\"data row8 col4\" >665.000000</td>\n",
       "      <td id=\"T_d532e_row8_col5\" class=\"data row8 col5\" >1206.000000</td>\n",
       "      <td id=\"T_d532e_row8_col6\" class=\"data row8 col6\" >595.000000</td>\n",
       "      <td id=\"T_d532e_row8_col7\" class=\"data row8 col7\" >2.080400</td>\n",
       "      <td id=\"T_d532e_row8_col8\" class=\"data row8 col8\" >226700.000000</td>\n",
       "      <td id=\"T_d532e_row8_col9\" class=\"data row8 col9\" >NEAR BAY</td>\n",
       "    </tr>\n",
       "    <tr>\n",
       "      <th id=\"T_d532e_level0_row9\" class=\"row_heading level0 row9\" >9</th>\n",
       "      <td id=\"T_d532e_row9_col0\" class=\"data row9 col0\" >-122.250000</td>\n",
       "      <td id=\"T_d532e_row9_col1\" class=\"data row9 col1\" >37.840000</td>\n",
       "      <td id=\"T_d532e_row9_col2\" class=\"data row9 col2\" >52.000000</td>\n",
       "      <td id=\"T_d532e_row9_col3\" class=\"data row9 col3\" >3549.000000</td>\n",
       "      <td id=\"T_d532e_row9_col4\" class=\"data row9 col4\" >707.000000</td>\n",
       "      <td id=\"T_d532e_row9_col5\" class=\"data row9 col5\" >1551.000000</td>\n",
       "      <td id=\"T_d532e_row9_col6\" class=\"data row9 col6\" >714.000000</td>\n",
       "      <td id=\"T_d532e_row9_col7\" class=\"data row9 col7\" >3.691200</td>\n",
       "      <td id=\"T_d532e_row9_col8\" class=\"data row9 col8\" >261100.000000</td>\n",
       "      <td id=\"T_d532e_row9_col9\" class=\"data row9 col9\" >NEAR BAY</td>\n",
       "    </tr>\n",
       "    <tr>\n",
       "      <th id=\"T_d532e_level0_row10\" class=\"row_heading level0 row10\" >10</th>\n",
       "      <td id=\"T_d532e_row10_col0\" class=\"data row10 col0\" >-122.260000</td>\n",
       "      <td id=\"T_d532e_row10_col1\" class=\"data row10 col1\" >37.850000</td>\n",
       "      <td id=\"T_d532e_row10_col2\" class=\"data row10 col2\" >52.000000</td>\n",
       "      <td id=\"T_d532e_row10_col3\" class=\"data row10 col3\" >2202.000000</td>\n",
       "      <td id=\"T_d532e_row10_col4\" class=\"data row10 col4\" >434.000000</td>\n",
       "      <td id=\"T_d532e_row10_col5\" class=\"data row10 col5\" >910.000000</td>\n",
       "      <td id=\"T_d532e_row10_col6\" class=\"data row10 col6\" >402.000000</td>\n",
       "      <td id=\"T_d532e_row10_col7\" class=\"data row10 col7\" >3.203100</td>\n",
       "      <td id=\"T_d532e_row10_col8\" class=\"data row10 col8\" >281500.000000</td>\n",
       "      <td id=\"T_d532e_row10_col9\" class=\"data row10 col9\" >NEAR BAY</td>\n",
       "    </tr>\n",
       "    <tr>\n",
       "      <th id=\"T_d532e_level0_row11\" class=\"row_heading level0 row11\" >11</th>\n",
       "      <td id=\"T_d532e_row11_col0\" class=\"data row11 col0\" >-122.260000</td>\n",
       "      <td id=\"T_d532e_row11_col1\" class=\"data row11 col1\" >37.850000</td>\n",
       "      <td id=\"T_d532e_row11_col2\" class=\"data row11 col2\" >52.000000</td>\n",
       "      <td id=\"T_d532e_row11_col3\" class=\"data row11 col3\" >3503.000000</td>\n",
       "      <td id=\"T_d532e_row11_col4\" class=\"data row11 col4\" >752.000000</td>\n",
       "      <td id=\"T_d532e_row11_col5\" class=\"data row11 col5\" >1504.000000</td>\n",
       "      <td id=\"T_d532e_row11_col6\" class=\"data row11 col6\" >734.000000</td>\n",
       "      <td id=\"T_d532e_row11_col7\" class=\"data row11 col7\" >3.270500</td>\n",
       "      <td id=\"T_d532e_row11_col8\" class=\"data row11 col8\" >241800.000000</td>\n",
       "      <td id=\"T_d532e_row11_col9\" class=\"data row11 col9\" >NEAR BAY</td>\n",
       "    </tr>\n",
       "    <tr>\n",
       "      <th id=\"T_d532e_level0_row12\" class=\"row_heading level0 row12\" >12</th>\n",
       "      <td id=\"T_d532e_row12_col0\" class=\"data row12 col0\" >-122.260000</td>\n",
       "      <td id=\"T_d532e_row12_col1\" class=\"data row12 col1\" >37.850000</td>\n",
       "      <td id=\"T_d532e_row12_col2\" class=\"data row12 col2\" >52.000000</td>\n",
       "      <td id=\"T_d532e_row12_col3\" class=\"data row12 col3\" >2491.000000</td>\n",
       "      <td id=\"T_d532e_row12_col4\" class=\"data row12 col4\" >474.000000</td>\n",
       "      <td id=\"T_d532e_row12_col5\" class=\"data row12 col5\" >1098.000000</td>\n",
       "      <td id=\"T_d532e_row12_col6\" class=\"data row12 col6\" >468.000000</td>\n",
       "      <td id=\"T_d532e_row12_col7\" class=\"data row12 col7\" >3.075000</td>\n",
       "      <td id=\"T_d532e_row12_col8\" class=\"data row12 col8\" >213500.000000</td>\n",
       "      <td id=\"T_d532e_row12_col9\" class=\"data row12 col9\" >NEAR BAY</td>\n",
       "    </tr>\n",
       "    <tr>\n",
       "      <th id=\"T_d532e_level0_row13\" class=\"row_heading level0 row13\" >13</th>\n",
       "      <td id=\"T_d532e_row13_col0\" class=\"data row13 col0\" >-122.260000</td>\n",
       "      <td id=\"T_d532e_row13_col1\" class=\"data row13 col1\" >37.840000</td>\n",
       "      <td id=\"T_d532e_row13_col2\" class=\"data row13 col2\" >52.000000</td>\n",
       "      <td id=\"T_d532e_row13_col3\" class=\"data row13 col3\" >696.000000</td>\n",
       "      <td id=\"T_d532e_row13_col4\" class=\"data row13 col4\" >191.000000</td>\n",
       "      <td id=\"T_d532e_row13_col5\" class=\"data row13 col5\" >345.000000</td>\n",
       "      <td id=\"T_d532e_row13_col6\" class=\"data row13 col6\" >174.000000</td>\n",
       "      <td id=\"T_d532e_row13_col7\" class=\"data row13 col7\" >2.673600</td>\n",
       "      <td id=\"T_d532e_row13_col8\" class=\"data row13 col8\" >191300.000000</td>\n",
       "      <td id=\"T_d532e_row13_col9\" class=\"data row13 col9\" >NEAR BAY</td>\n",
       "    </tr>\n",
       "    <tr>\n",
       "      <th id=\"T_d532e_level0_row14\" class=\"row_heading level0 row14\" >14</th>\n",
       "      <td id=\"T_d532e_row14_col0\" class=\"data row14 col0\" >-122.260000</td>\n",
       "      <td id=\"T_d532e_row14_col1\" class=\"data row14 col1\" >37.850000</td>\n",
       "      <td id=\"T_d532e_row14_col2\" class=\"data row14 col2\" >52.000000</td>\n",
       "      <td id=\"T_d532e_row14_col3\" class=\"data row14 col3\" >2643.000000</td>\n",
       "      <td id=\"T_d532e_row14_col4\" class=\"data row14 col4\" >626.000000</td>\n",
       "      <td id=\"T_d532e_row14_col5\" class=\"data row14 col5\" >1212.000000</td>\n",
       "      <td id=\"T_d532e_row14_col6\" class=\"data row14 col6\" >620.000000</td>\n",
       "      <td id=\"T_d532e_row14_col7\" class=\"data row14 col7\" >1.916700</td>\n",
       "      <td id=\"T_d532e_row14_col8\" class=\"data row14 col8\" >159200.000000</td>\n",
       "      <td id=\"T_d532e_row14_col9\" class=\"data row14 col9\" >NEAR BAY</td>\n",
       "    </tr>\n",
       "    <tr>\n",
       "      <th id=\"T_d532e_level0_row15\" class=\"row_heading level0 row15\" >15</th>\n",
       "      <td id=\"T_d532e_row15_col0\" class=\"data row15 col0\" >-122.260000</td>\n",
       "      <td id=\"T_d532e_row15_col1\" class=\"data row15 col1\" >37.850000</td>\n",
       "      <td id=\"T_d532e_row15_col2\" class=\"data row15 col2\" >50.000000</td>\n",
       "      <td id=\"T_d532e_row15_col3\" class=\"data row15 col3\" >1120.000000</td>\n",
       "      <td id=\"T_d532e_row15_col4\" class=\"data row15 col4\" >283.000000</td>\n",
       "      <td id=\"T_d532e_row15_col5\" class=\"data row15 col5\" >697.000000</td>\n",
       "      <td id=\"T_d532e_row15_col6\" class=\"data row15 col6\" >264.000000</td>\n",
       "      <td id=\"T_d532e_row15_col7\" class=\"data row15 col7\" >2.125000</td>\n",
       "      <td id=\"T_d532e_row15_col8\" class=\"data row15 col8\" >140000.000000</td>\n",
       "      <td id=\"T_d532e_row15_col9\" class=\"data row15 col9\" >NEAR BAY</td>\n",
       "    </tr>\n",
       "    <tr>\n",
       "      <th id=\"T_d532e_level0_row16\" class=\"row_heading level0 row16\" >16</th>\n",
       "      <td id=\"T_d532e_row16_col0\" class=\"data row16 col0\" >-122.270000</td>\n",
       "      <td id=\"T_d532e_row16_col1\" class=\"data row16 col1\" >37.850000</td>\n",
       "      <td id=\"T_d532e_row16_col2\" class=\"data row16 col2\" >52.000000</td>\n",
       "      <td id=\"T_d532e_row16_col3\" class=\"data row16 col3\" >1966.000000</td>\n",
       "      <td id=\"T_d532e_row16_col4\" class=\"data row16 col4\" >347.000000</td>\n",
       "      <td id=\"T_d532e_row16_col5\" class=\"data row16 col5\" >793.000000</td>\n",
       "      <td id=\"T_d532e_row16_col6\" class=\"data row16 col6\" >331.000000</td>\n",
       "      <td id=\"T_d532e_row16_col7\" class=\"data row16 col7\" >2.775000</td>\n",
       "      <td id=\"T_d532e_row16_col8\" class=\"data row16 col8\" >152500.000000</td>\n",
       "      <td id=\"T_d532e_row16_col9\" class=\"data row16 col9\" >NEAR BAY</td>\n",
       "    </tr>\n",
       "    <tr>\n",
       "      <th id=\"T_d532e_level0_row17\" class=\"row_heading level0 row17\" >17</th>\n",
       "      <td id=\"T_d532e_row17_col0\" class=\"data row17 col0\" >-122.270000</td>\n",
       "      <td id=\"T_d532e_row17_col1\" class=\"data row17 col1\" >37.850000</td>\n",
       "      <td id=\"T_d532e_row17_col2\" class=\"data row17 col2\" >52.000000</td>\n",
       "      <td id=\"T_d532e_row17_col3\" class=\"data row17 col3\" >1228.000000</td>\n",
       "      <td id=\"T_d532e_row17_col4\" class=\"data row17 col4\" >293.000000</td>\n",
       "      <td id=\"T_d532e_row17_col5\" class=\"data row17 col5\" >648.000000</td>\n",
       "      <td id=\"T_d532e_row17_col6\" class=\"data row17 col6\" >303.000000</td>\n",
       "      <td id=\"T_d532e_row17_col7\" class=\"data row17 col7\" >2.120200</td>\n",
       "      <td id=\"T_d532e_row17_col8\" class=\"data row17 col8\" >155500.000000</td>\n",
       "      <td id=\"T_d532e_row17_col9\" class=\"data row17 col9\" >NEAR BAY</td>\n",
       "    </tr>\n",
       "    <tr>\n",
       "      <th id=\"T_d532e_level0_row18\" class=\"row_heading level0 row18\" >18</th>\n",
       "      <td id=\"T_d532e_row18_col0\" class=\"data row18 col0\" >-122.260000</td>\n",
       "      <td id=\"T_d532e_row18_col1\" class=\"data row18 col1\" >37.840000</td>\n",
       "      <td id=\"T_d532e_row18_col2\" class=\"data row18 col2\" >50.000000</td>\n",
       "      <td id=\"T_d532e_row18_col3\" class=\"data row18 col3\" >2239.000000</td>\n",
       "      <td id=\"T_d532e_row18_col4\" class=\"data row18 col4\" >455.000000</td>\n",
       "      <td id=\"T_d532e_row18_col5\" class=\"data row18 col5\" >990.000000</td>\n",
       "      <td id=\"T_d532e_row18_col6\" class=\"data row18 col6\" >419.000000</td>\n",
       "      <td id=\"T_d532e_row18_col7\" class=\"data row18 col7\" >1.991100</td>\n",
       "      <td id=\"T_d532e_row18_col8\" class=\"data row18 col8\" >158700.000000</td>\n",
       "      <td id=\"T_d532e_row18_col9\" class=\"data row18 col9\" >NEAR BAY</td>\n",
       "    </tr>\n",
       "    <tr>\n",
       "      <th id=\"T_d532e_level0_row19\" class=\"row_heading level0 row19\" >19</th>\n",
       "      <td id=\"T_d532e_row19_col0\" class=\"data row19 col0\" >-122.270000</td>\n",
       "      <td id=\"T_d532e_row19_col1\" class=\"data row19 col1\" >37.840000</td>\n",
       "      <td id=\"T_d532e_row19_col2\" class=\"data row19 col2\" >52.000000</td>\n",
       "      <td id=\"T_d532e_row19_col3\" class=\"data row19 col3\" >1503.000000</td>\n",
       "      <td id=\"T_d532e_row19_col4\" class=\"data row19 col4\" >298.000000</td>\n",
       "      <td id=\"T_d532e_row19_col5\" class=\"data row19 col5\" >690.000000</td>\n",
       "      <td id=\"T_d532e_row19_col6\" class=\"data row19 col6\" >275.000000</td>\n",
       "      <td id=\"T_d532e_row19_col7\" class=\"data row19 col7\" >2.603300</td>\n",
       "      <td id=\"T_d532e_row19_col8\" class=\"data row19 col8\" >162900.000000</td>\n",
       "      <td id=\"T_d532e_row19_col9\" class=\"data row19 col9\" >NEAR BAY</td>\n",
       "    </tr>\n",
       "  </tbody>\n",
       "</table>\n"
      ],
      "text/plain": [
       "<pandas.io.formats.style.Styler at 0x1639b6a90>"
      ]
     },
     "execution_count": 23,
     "metadata": {},
     "output_type": "execute_result"
    }
   ],
   "source": [
    "house_pricing_df.head(20).style.background_gradient(cmap='Reds')  #Gradient background color for the numerical columns"
   ]
  },
  {
   "cell_type": "code",
   "execution_count": 25,
   "id": "7d92cce6",
   "metadata": {},
   "outputs": [
    {
     "name": "stdout",
     "output_type": "stream",
     "text": [
      "<class 'pandas.core.frame.DataFrame'>\n",
      "RangeIndex: 20640 entries, 0 to 20639\n",
      "Data columns (total 10 columns):\n",
      " #   Column              Non-Null Count  Dtype  \n",
      "---  ------              --------------  -----  \n",
      " 0   longitude           20640 non-null  float64\n",
      " 1   latitude            20640 non-null  float64\n",
      " 2   housing_median_age  20640 non-null  float64\n",
      " 3   total_rooms         20640 non-null  float64\n",
      " 4   total_bedrooms      20433 non-null  float64\n",
      " 5   population          20640 non-null  float64\n",
      " 6   households          20640 non-null  float64\n",
      " 7   median_income       20640 non-null  float64\n",
      " 8   median_house_value  20640 non-null  float64\n",
      " 9   ocean_proximity     20640 non-null  object \n",
      "dtypes: float64(9), object(1)\n",
      "memory usage: 1.6+ MB\n"
     ]
    }
   ],
   "source": [
    "house_pricing_df.info()        # check the info of the data e.g NO. columns, NO. rows and nulls dtypes of the data"
   ]
  },
  {
   "cell_type": "code",
   "execution_count": 28,
   "id": "e965da91",
   "metadata": {},
   "outputs": [
    {
     "data": {
      "text/html": [
       "<div>\n",
       "<style scoped>\n",
       "    .dataframe tbody tr th:only-of-type {\n",
       "        vertical-align: middle;\n",
       "    }\n",
       "\n",
       "    .dataframe tbody tr th {\n",
       "        vertical-align: top;\n",
       "    }\n",
       "\n",
       "    .dataframe thead th {\n",
       "        text-align: right;\n",
       "    }\n",
       "</style>\n",
       "<table border=\"1\" class=\"dataframe\">\n",
       "  <thead>\n",
       "    <tr style=\"text-align: right;\">\n",
       "      <th></th>\n",
       "      <th>longitude</th>\n",
       "      <th>latitude</th>\n",
       "      <th>housing_median_age</th>\n",
       "      <th>total_rooms</th>\n",
       "      <th>total_bedrooms</th>\n",
       "      <th>population</th>\n",
       "      <th>households</th>\n",
       "      <th>median_income</th>\n",
       "      <th>median_house_value</th>\n",
       "    </tr>\n",
       "  </thead>\n",
       "  <tbody>\n",
       "    <tr>\n",
       "      <th>count</th>\n",
       "      <td>20640.000000</td>\n",
       "      <td>20640.000000</td>\n",
       "      <td>20640.000000</td>\n",
       "      <td>20640.000000</td>\n",
       "      <td>20433.000000</td>\n",
       "      <td>20640.000000</td>\n",
       "      <td>20640.000000</td>\n",
       "      <td>20640.000000</td>\n",
       "      <td>20640.000000</td>\n",
       "    </tr>\n",
       "    <tr>\n",
       "      <th>mean</th>\n",
       "      <td>-119.569704</td>\n",
       "      <td>35.631861</td>\n",
       "      <td>28.639486</td>\n",
       "      <td>2635.763081</td>\n",
       "      <td>537.870553</td>\n",
       "      <td>1425.476744</td>\n",
       "      <td>499.539680</td>\n",
       "      <td>3.870671</td>\n",
       "      <td>206855.816909</td>\n",
       "    </tr>\n",
       "    <tr>\n",
       "      <th>std</th>\n",
       "      <td>2.003532</td>\n",
       "      <td>2.135952</td>\n",
       "      <td>12.585558</td>\n",
       "      <td>2181.615252</td>\n",
       "      <td>421.385070</td>\n",
       "      <td>1132.462122</td>\n",
       "      <td>382.329753</td>\n",
       "      <td>1.899822</td>\n",
       "      <td>115395.615874</td>\n",
       "    </tr>\n",
       "    <tr>\n",
       "      <th>min</th>\n",
       "      <td>-124.350000</td>\n",
       "      <td>32.540000</td>\n",
       "      <td>1.000000</td>\n",
       "      <td>2.000000</td>\n",
       "      <td>1.000000</td>\n",
       "      <td>3.000000</td>\n",
       "      <td>1.000000</td>\n",
       "      <td>0.499900</td>\n",
       "      <td>14999.000000</td>\n",
       "    </tr>\n",
       "    <tr>\n",
       "      <th>25%</th>\n",
       "      <td>-121.800000</td>\n",
       "      <td>33.930000</td>\n",
       "      <td>18.000000</td>\n",
       "      <td>1447.750000</td>\n",
       "      <td>296.000000</td>\n",
       "      <td>787.000000</td>\n",
       "      <td>280.000000</td>\n",
       "      <td>2.563400</td>\n",
       "      <td>119600.000000</td>\n",
       "    </tr>\n",
       "    <tr>\n",
       "      <th>50%</th>\n",
       "      <td>-118.490000</td>\n",
       "      <td>34.260000</td>\n",
       "      <td>29.000000</td>\n",
       "      <td>2127.000000</td>\n",
       "      <td>435.000000</td>\n",
       "      <td>1166.000000</td>\n",
       "      <td>409.000000</td>\n",
       "      <td>3.534800</td>\n",
       "      <td>179700.000000</td>\n",
       "    </tr>\n",
       "    <tr>\n",
       "      <th>75%</th>\n",
       "      <td>-118.010000</td>\n",
       "      <td>37.710000</td>\n",
       "      <td>37.000000</td>\n",
       "      <td>3148.000000</td>\n",
       "      <td>647.000000</td>\n",
       "      <td>1725.000000</td>\n",
       "      <td>605.000000</td>\n",
       "      <td>4.743250</td>\n",
       "      <td>264725.000000</td>\n",
       "    </tr>\n",
       "    <tr>\n",
       "      <th>max</th>\n",
       "      <td>-114.310000</td>\n",
       "      <td>41.950000</td>\n",
       "      <td>52.000000</td>\n",
       "      <td>39320.000000</td>\n",
       "      <td>6445.000000</td>\n",
       "      <td>35682.000000</td>\n",
       "      <td>6082.000000</td>\n",
       "      <td>15.000100</td>\n",
       "      <td>500001.000000</td>\n",
       "    </tr>\n",
       "  </tbody>\n",
       "</table>\n",
       "</div>"
      ],
      "text/plain": [
       "          longitude      latitude  housing_median_age   total_rooms  \\\n",
       "count  20640.000000  20640.000000        20640.000000  20640.000000   \n",
       "mean    -119.569704     35.631861           28.639486   2635.763081   \n",
       "std        2.003532      2.135952           12.585558   2181.615252   \n",
       "min     -124.350000     32.540000            1.000000      2.000000   \n",
       "25%     -121.800000     33.930000           18.000000   1447.750000   \n",
       "50%     -118.490000     34.260000           29.000000   2127.000000   \n",
       "75%     -118.010000     37.710000           37.000000   3148.000000   \n",
       "max     -114.310000     41.950000           52.000000  39320.000000   \n",
       "\n",
       "       total_bedrooms    population    households  median_income  \\\n",
       "count    20433.000000  20640.000000  20640.000000   20640.000000   \n",
       "mean       537.870553   1425.476744    499.539680       3.870671   \n",
       "std        421.385070   1132.462122    382.329753       1.899822   \n",
       "min          1.000000      3.000000      1.000000       0.499900   \n",
       "25%        296.000000    787.000000    280.000000       2.563400   \n",
       "50%        435.000000   1166.000000    409.000000       3.534800   \n",
       "75%        647.000000   1725.000000    605.000000       4.743250   \n",
       "max       6445.000000  35682.000000   6082.000000      15.000100   \n",
       "\n",
       "       median_house_value  \n",
       "count        20640.000000  \n",
       "mean        206855.816909  \n",
       "std         115395.615874  \n",
       "min          14999.000000  \n",
       "25%         119600.000000  \n",
       "50%         179700.000000  \n",
       "75%         264725.000000  \n",
       "max         500001.000000  "
      ]
     },
     "execution_count": 28,
     "metadata": {},
     "output_type": "execute_result"
    }
   ],
   "source": [
    "house_pricing_df.describe()   # some statistical measurement (neam, std, min max etc) "
   ]
  },
  {
   "cell_type": "code",
   "execution_count": 36,
   "id": "ccfabd30",
   "metadata": {},
   "outputs": [
    {
     "data": {
      "text/plain": [
       "Index(['longitude', 'latitude', 'housing_median_age', 'total_rooms',\n",
       "       'total_bedrooms', 'population', 'households', 'median_income',\n",
       "       'median_house_value', 'ocean_proximity'],\n",
       "      dtype='object')"
      ]
     },
     "execution_count": 36,
     "metadata": {},
     "output_type": "execute_result"
    }
   ],
   "source": [
    "house_pricing_df.columns          # show the features names"
   ]
  },
  {
   "cell_type": "code",
   "execution_count": 40,
   "id": "e55a81b4",
   "metadata": {},
   "outputs": [
    {
     "data": {
      "text/plain": [
       "(20640, 10)"
      ]
     },
     "execution_count": 40,
     "metadata": {},
     "output_type": "execute_result"
    }
   ],
   "source": [
    "house_pricing_df.shape            # shape of the data (number of rows and columns)"
   ]
  },
  {
   "cell_type": "code",
   "execution_count": 38,
   "id": "a447b575",
   "metadata": {},
   "outputs": [
    {
     "data": {
      "text/plain": [
       "longitude               0\n",
       "latitude                0\n",
       "housing_median_age      0\n",
       "total_rooms             0\n",
       "total_bedrooms        207\n",
       "population              0\n",
       "households              0\n",
       "median_income           0\n",
       "median_house_value      0\n",
       "ocean_proximity         0\n",
       "dtype: int64"
      ]
     },
     "execution_count": 38,
     "metadata": {},
     "output_type": "execute_result"
    }
   ],
   "source": [
    "house_pricing_df.isnull().sum()   # check how many null values in each column in the dataFrame"
   ]
  },
  {
   "cell_type": "markdown",
   "id": "765e2f83",
   "metadata": {},
   "source": [
    "* 'Based on the above overview of the dataset, it can be seen that the data contains 20640 rows and 10 column. the dataset contains 9 columns of float64 and 1 column object which is ocean_proximity. The column total_bedrooms contains 207 of missing values which we need to deal with it using either droping or immputaion technuqe'"
   ]
  },
  {
   "cell_type": "code",
   "execution_count": 90,
   "id": "78e26448",
   "metadata": {},
   "outputs": [],
   "source": [
    "# replacing the <1H OCEAN with 1H OCEAN\n",
    "house_pricing_df['ocean_proximity'] = house_pricing_df['ocean_proximity'].replace('<1H OCEAN','1H OCEAN')"
   ]
  },
  {
   "cell_type": "code",
   "execution_count": 92,
   "id": "5792115a",
   "metadata": {},
   "outputs": [
    {
     "data": {
      "text/plain": [
       "1H OCEAN      9136\n",
       "INLAND        6551\n",
       "NEAR OCEAN    2658\n",
       "NEAR BAY      2290\n",
       "ISLAND           5\n",
       "Name: ocean_proximity, dtype: int64"
      ]
     },
     "execution_count": 92,
     "metadata": {},
     "output_type": "execute_result"
    }
   ],
   "source": [
    "# get how many times each catigory repeated\n",
    "ocean_value = house_pricing_df['ocean_proximity'].value_counts()  \n",
    "ocean_value"
   ]
  },
  {
   "cell_type": "code",
   "execution_count": 93,
   "id": "a292fc09",
   "metadata": {},
   "outputs": [
    {
     "data": {
      "image/png": "[encoded data removed]",
      "text/plain": [
       "<Figure size 800x500 with 1 Axes>"
      ]
     },
     "metadata": {},
     "output_type": "display_data"
    }
   ],
   "source": [
    "# visulization the ocean proximity column\n",
    "plt.figure(figsize=(8,5))\n",
    "sns.countplot(x='ocean_proximity', data=house_pricing_df, order=ocean_value.index)\n",
    "plt.title(\"Count Plot for ocean proximity feature in the dataset\")\n",
    "plt.tight_layout()\n",
    "\n",
    "# get the percentage of each oceam proximity\n",
    "for i in range(len(ocean_value)) :\n",
    "    counter = ocean_value[i] \n",
    "    value = f'{(counter / house_pricing_df.shape[0]) * 100:.2f}%'\n",
    "    plt.text(i, counter+100, value, ha='center', color='k', fontsize=14)\n",
    "plt.show()"
   ]
  },
  {
   "cell_type": "markdown",
   "id": "5d1ec499",
   "metadata": {},
   "source": [
    "* 'The ocean_proxmitiy column contains 5 calsses each have differnt value. 1H OCEAN repeated 9136 time, INLAND 6551, Near OCEAN 2658, NEAR BY 2290 and ISLAND 5. The 1H OCEAN contain 44.26% of the data, INLAND 31.74%, NEAR OCEAN 12.88%, NEAR BY 11.09% and ISLAND 0.02%'"
   ]
  },
  {
   "cell_type": "code",
   "execution_count": 100,
   "id": "19837cba",
   "metadata": {},
   "outputs": [
    {
     "data": {
      "image/png": "[encoded data removed]",
      "text/plain": [
       "<Figure size 2000x1300 with 9 Axes>"
      ]
     },
     "metadata": {},
     "output_type": "display_data"
    }
   ],
   "source": [
    "# histogram distrbution for the numberical data\n",
    "house_pricing_df.hist(bins=50, figsize=(20,13));"
   ]
  },
  {
   "cell_type": "code",
   "execution_count": 106,
   "id": "e2dc5c46",
   "metadata": {},
   "outputs": [
    {
     "data": {
      "image/png": "[encoded data removed]",
      "text/plain": [
       "<Figure size 800x500 with 1 Axes>"
      ]
     },
     "metadata": {},
     "output_type": "display_data"
    }
   ],
   "source": [
    "# scatter plot the meadian income and median house value\n",
    "plt.figure(figsize=(8, 5))\n",
    "plt.scatter(house_pricing_df['median_income'], house_pricing_df['median_house_value'])\n",
    "plt.title('Distribution of the Median Income VS. Median house value')\n",
    "plt.xlabel('Median Icome')\n",
    "plt.ylabel('Median house value')\n",
    "plt.show()"
   ]
  },
  {
   "cell_type": "code",
   "execution_count": null,
   "id": "f6f8ecd1",
   "metadata": {},
   "outputs": [],
   "source": []
  },
  {
   "cell_type": "code",
   "execution_count": null,
   "id": "11df7418",
   "metadata": {},
   "outputs": [],
   "source": []
  },
  {
   "cell_type": "code",
   "execution_count": null,
   "id": "16ece7af",
   "metadata": {},
   "outputs": [],
   "source": []
  },
  {
   "cell_type": "code",
   "execution_count": null,
   "id": "36e576c5",
   "metadata": {},
   "outputs": [],
   "source": []
  },
  {
   "cell_type": "code",
   "execution_count": null,
   "id": "a72e4ba2",
   "metadata": {},
   "outputs": [],
   "source": []
  },
  {
   "cell_type": "markdown",
   "id": "19ff283b",
   "metadata": {},
   "source": [
    "* 'From the scatter plot of the median_value and median_house_value, there is a linear relation between the both features'"
   ]
  },
  {
   "cell_type": "code",
   "execution_count": 42,
   "id": "02bfe89c",
   "metadata": {},
   "outputs": [
    {
     "data": {
      "text/plain": [
       "<Axes: ylabel='Density'>"
      ]
     },
     "execution_count": 42,
     "metadata": {},
     "output_type": "execute_result"
    },
    {
     "data": {
      "image/png": "[encoded data removed]",
      "text/plain": [
       "<Figure size 640x480 with 1 Axes>"
      ]
     },
     "metadata": {},
     "output_type": "display_data"
    }
   ],
   "source": [
    "sns.distplot(x=house_pricing_df['total_bedrooms'])"
   ]
  },
  {
   "cell_type": "markdown",
   "id": "49adecff",
   "metadata": {},
   "source": [
    "* 'From the distribution above, it can be seen that there is no outliers in the data, in this case we can use mean value and replace it with the 207 missing values'"
   ]
  },
  {
   "cell_type": "code",
   "execution_count": null,
   "id": "7c96ae8c",
   "metadata": {},
   "outputs": [],
   "source": []
  },
  {
   "cell_type": "code",
   "execution_count": null,
   "id": "4daac99d",
   "metadata": {},
   "outputs": [],
   "source": []
  },
  {
   "cell_type": "code",
   "execution_count": null,
   "id": "2d19911c",
   "metadata": {},
   "outputs": [],
   "source": []
  },
  {
   "cell_type": "code",
   "execution_count": null,
   "id": "600ee7bf",
   "metadata": {},
   "outputs": [],
   "source": []
  },
  {
   "cell_type": "code",
   "execution_count": 4,
   "id": "e97f7485",
   "metadata": {},
   "outputs": [
    {
     "ename": "NameError",
     "evalue": "name 'house_dataset' is not defined",
     "output_type": "error",
     "traceback": [
      "\u001b[0;31m---------------------------------------------------------------------------\u001b[0m",
      "\u001b[0;31mNameError\u001b[0m                                 Traceback (most recent call last)",
      "Cell \u001b[0;32mIn[4], line 1\u001b[0m\n\u001b[0;32m----> 1\u001b[0m house_dataset[house_dataset[\u001b[38;5;124m'\u001b[39m\u001b[38;5;124mbathrooms\u001b[39m\u001b[38;5;124m'\u001b[39m] \u001b[38;5;241m==\u001b[39m house_dataset[\u001b[38;5;124m'\u001b[39m\u001b[38;5;124mbathrooms\u001b[39m\u001b[38;5;124m'\u001b[39m]\u001b[38;5;241m.\u001b[39mmin()]\n",
      "\u001b[0;31mNameError\u001b[0m: name 'house_dataset' is not defined"
     ]
    }
   ],
   "source": [
    "house_dataset[house_dataset['bathrooms'] == house_dataset['bathrooms'].min()]"
   ]
  },
  {
   "cell_type": "markdown",
   "id": "5b79bb63",
   "metadata": {},
   "source": [
    "## The price for the house contain the highest number of rooms"
   ]
  },
  {
   "cell_type": "code",
   "execution_count": null,
   "id": "fe160507",
   "metadata": {},
   "outputs": [],
   "source": [
    "house_dataset[house_dataset['bedrooms'] == house_dataset['bathrooms'].max()]['price'].values[0]"
   ]
  },
  {
   "cell_type": "markdown",
   "id": "18dce770",
   "metadata": {},
   "source": [
    "## The total price for the house with the lowest number of rooms"
   ]
  },
  {
   "cell_type": "code",
   "execution_count": null,
   "id": "6e8dd4c1",
   "metadata": {},
   "outputs": [],
   "source": [
    "house_dataset[house_dataset['bedrooms'] == house_dataset['bedrooms'].min()]['price'].values[0]"
   ]
  },
  {
   "cell_type": "markdown",
   "id": "97f7d26c",
   "metadata": {},
   "source": [
    "## The lowes house rooms in the dataset"
   ]
  },
  {
   "cell_type": "code",
   "execution_count": null,
   "id": "5ef2799a",
   "metadata": {},
   "outputs": [],
   "source": [
    "house_dataset[house_dataset['bathrooms'] == house_dataset['bathrooms'].min()]['bedrooms'].values[0]"
   ]
  },
  {
   "cell_type": "markdown",
   "id": "adb4635b",
   "metadata": {},
   "source": [
    "## The total of room in the house contains the highest number of rooms"
   ]
  },
  {
   "cell_type": "code",
   "execution_count": null,
   "id": "f73acdcc",
   "metadata": {},
   "outputs": [],
   "source": [
    "house_dataset[house_dataset['bedrooms'] == house_dataset['bedrooms'].max()]['bedrooms'].values[0]"
   ]
  },
  {
   "cell_type": "markdown",
   "id": "5041a63e",
   "metadata": {},
   "source": [
    "## The total null value in each column"
   ]
  },
  {
   "cell_type": "code",
   "execution_count": null,
   "id": "8c60e0bd",
   "metadata": {},
   "outputs": [],
   "source": []
  },
  {
   "cell_type": "markdown",
   "id": "03abf940",
   "metadata": {},
   "source": [
    "## Check the shape of the dataset"
   ]
  },
  {
   "cell_type": "code",
   "execution_count": null,
   "id": "439c1b0f",
   "metadata": {},
   "outputs": [],
   "source": [
    "house_dataset.shape"
   ]
  },
  {
   "cell_type": "markdown",
   "id": "c9178334",
   "metadata": {},
   "source": [
    "## Calculate the percentage of the missing data"
   ]
  },
  {
   "cell_type": "code",
   "execution_count": null,
   "id": "09bb41d4",
   "metadata": {},
   "outputs": [],
   "source": [
    "missing_percentage = (house_dataset.isna().sum().sum() / house_dataset.size) * 100\n",
    "\n",
    "print(f'The percentage of the missing data is {missing_percentage:.2f}%')"
   ]
  },
  {
   "cell_type": "markdown",
   "id": "9a1eaf0f",
   "metadata": {},
   "source": [
    "## Get the total amount of missing data"
   ]
  },
  {
   "cell_type": "code",
   "execution_count": null,
   "id": "544bb65a",
   "metadata": {},
   "outputs": [],
   "source": [
    "print(f'The total amount of missing data is {house_dataset.isna().sum().sum()}')"
   ]
  },
  {
   "cell_type": "markdown",
   "id": "4c0bf0ab",
   "metadata": {},
   "source": [
    "## Cleaning the missing data"
   ]
  },
  {
   "cell_type": "code",
   "execution_count": null,
   "id": "a9ec1d72",
   "metadata": {},
   "outputs": [],
   "source": [
    "# display the skew to chech which statistical measurement stable for cleaning the missing data\n",
    "sns.distplot(house_dataset['bedrooms'], )\n",
    "plt.show()"
   ]
  },
  {
   "cell_type": "markdown",
   "id": "f40bfd10",
   "metadata": {},
   "source": [
    "## Replace the missing data with the mean value"
   ]
  },
  {
   "cell_type": "code",
   "execution_count": null,
   "id": "dbb8cbdc",
   "metadata": {},
   "outputs": [],
   "source": [
    "house_dataset_df = house_dataset.fillna(house_dataset['bedrooms'].mean(), )\n",
    "house_dataset_df.isna().sum()"
   ]
  },
  {
   "cell_type": "markdown",
   "id": "e2e9f5dc",
   "metadata": {},
   "source": [
    "## The correlation between the numerical columns"
   ]
  },
  {
   "cell_type": "code",
   "execution_count": null,
   "id": "cbd505ff",
   "metadata": {},
   "outputs": [],
   "source": [
    "Correlation = house_dataset_df.corr(numeric_only='numberic')"
   ]
  },
  {
   "cell_type": "markdown",
   "id": "90528910",
   "metadata": {},
   "source": [
    "## constructing heatmap to understand the correlation between the columns"
   ]
  },
  {
   "cell_type": "code",
   "execution_count": null,
   "id": "37b6db60",
   "metadata": {},
   "outputs": [],
   "source": [
    "plt.figure(figsize=(15, 7))\n",
    "sns.heatmap(Correlation, square=True, fmt='0.2f', cmap=\"YlGnBu\", annot=True, annot_kws={'size':9}, cbar=True,)\n",
    "plt.show()"
   ]
  },
  {
   "cell_type": "markdown",
   "id": "c89887fb",
   "metadata": {},
   "source": [
    "## Display all the columns\n"
   ]
  },
  {
   "cell_type": "code",
   "execution_count": null,
   "id": "b79912ba",
   "metadata": {},
   "outputs": [],
   "source": [
    "house_dataset_df.columns"
   ]
  },
  {
   "cell_type": "markdown",
   "id": "0a8e6365",
   "metadata": {},
   "source": [
    "## Histegram ploting for the columns that have higher correlations"
   ]
  },
  {
   "cell_type": "code",
   "execution_count": null,
   "id": "580df39a",
   "metadata": {},
   "outputs": [],
   "source": [
    "plt.hist(house_dataset_df['bedrooms'], bins=40)\n",
    "plt.show()"
   ]
  },
  {
   "cell_type": "code",
   "execution_count": null,
   "id": "aefe50b7",
   "metadata": {},
   "outputs": [],
   "source": [
    "house_dataset.head(1)"
   ]
  },
  {
   "cell_type": "code",
   "execution_count": null,
   "id": "9001e18c",
   "metadata": {},
   "outputs": [],
   "source": [
    "plt.hist(house_dataset_df['price'], bins=40)\n",
    "plt.show()"
   ]
  },
  {
   "cell_type": "code",
   "execution_count": null,
   "id": "dbe10c41",
   "metadata": {},
   "outputs": [],
   "source": [
    "plt.hist(house_dataset_df['area'], bins=40)\n",
    "plt.show()"
   ]
  },
  {
   "cell_type": "code",
   "execution_count": null,
   "id": "b8152c97",
   "metadata": {},
   "outputs": [],
   "source": [
    "plt.hist(house_dataset_df['bathrooms'], bins=40)\n",
    "plt.show()"
   ]
  },
  {
   "cell_type": "code",
   "execution_count": null,
   "id": "d7e19176",
   "metadata": {},
   "outputs": [],
   "source": [
    "plt.hist(house_dataset_df['stories'])\n",
    "plt.show()"
   ]
  },
  {
   "cell_type": "code",
   "execution_count": null,
   "id": "098298ce",
   "metadata": {},
   "outputs": [],
   "source": [
    "plt.hist(house_dataset_df['mainroad'])\n",
    "plt.show()"
   ]
  },
  {
   "cell_type": "code",
   "execution_count": null,
   "id": "5fbe0c9b",
   "metadata": {},
   "outputs": [],
   "source": [
    "plt.hist(house_dataset_df['guestroom'])\n",
    "plt.show() "
   ]
  },
  {
   "cell_type": "code",
   "execution_count": null,
   "id": "9d8abfb3",
   "metadata": {},
   "outputs": [],
   "source": [
    "plt.hist(house_dataset_df['basement'])\n",
    "plt.show()"
   ]
  },
  {
   "cell_type": "code",
   "execution_count": null,
   "id": "aebab18d",
   "metadata": {},
   "outputs": [],
   "source": [
    "plt.hist(house_dataset_df['hotwaterheating'])\n",
    "plt.show()"
   ]
  },
  {
   "cell_type": "code",
   "execution_count": null,
   "id": "01dea384",
   "metadata": {},
   "outputs": [],
   "source": [
    "plt.hist(house_dataset_df['airconditioning'])\n",
    "plt.show()"
   ]
  },
  {
   "cell_type": "code",
   "execution_count": null,
   "id": "942a06d2",
   "metadata": {},
   "outputs": [],
   "source": [
    "plt.hist(house_dataset_df['parking'])\n",
    "plt.show()"
   ]
  },
  {
   "cell_type": "code",
   "execution_count": null,
   "id": "d106d546",
   "metadata": {},
   "outputs": [],
   "source": [
    "plt.hist(house_dataset_df['prefarea'])\n",
    "plt.show()"
   ]
  },
  {
   "cell_type": "code",
   "execution_count": null,
   "id": "ed9f25e8",
   "metadata": {},
   "outputs": [],
   "source": [
    "plt.hist(house_dataset_df['furnishingstatus'])\n",
    "plt.show()"
   ]
  },
  {
   "cell_type": "markdown",
   "id": "ef37ed92",
   "metadata": {},
   "source": [
    "## Sprate the datainto train and test"
   ]
  },
  {
   "cell_type": "code",
   "execution_count": null,
   "id": "ccfb9e0c",
   "metadata": {},
   "outputs": [],
   "source": [
    "sns.boxplot(data=house_dataset, y=\"area\")\n",
    "plt.show()"
   ]
  },
  {
   "cell_type": "code",
   "execution_count": null,
   "id": "e46b966b",
   "metadata": {},
   "outputs": [],
   "source": [
    "plt.figure(figsize=(8, 6))\n",
    "plt.boxplot(x=house_dataset['price'], notch=True)\n",
    "plt.ylabel('price')"
   ]
  },
  {
   "cell_type": "code",
   "execution_count": null,
   "id": "f22ebb11",
   "metadata": {},
   "outputs": [],
   "source": [
    "sns.displot(data=house_dataset, x='price', kde=True)"
   ]
  },
  {
   "cell_type": "code",
   "execution_count": null,
   "id": "263cac38",
   "metadata": {},
   "outputs": [],
   "source": [
    "fig, axes = plt.subplots(1, 2, figsize=(10,5))\n",
    "sns.scatterplot(ax=axes[0], data=house_dataset, x='area', y='price', hue='mainroad', size=\"stories\", sizes=(10, 200), alpha=0.2)\n",
    "axes[0].legend(loc='center left', prop={'size': 8})\n",
    "markers = {'no':'X', 'yes':'o'}\n",
    "sns.scatterplot(ax=axes[1], data=house_dataset, x='area', y='price', style='mainroad', markers=markers, alpha=0.2)\n",
    "plt.tight_layout()\n",
    "plt.show()"
   ]
  },
  {
   "cell_type": "markdown",
   "id": "fe7b0cd6",
   "metadata": {},
   "source": [
    "## chech the null values"
   ]
  },
  {
   "cell_type": "code",
   "execution_count": null,
   "id": "710c89a1",
   "metadata": {},
   "outputs": [],
   "source": [
    "house_dataset.isna().sum()"
   ]
  },
  {
   "cell_type": "markdown",
   "id": "6f548fb0",
   "metadata": {},
   "source": [
    "## display the colu data"
   ]
  },
  {
   "cell_type": "code",
   "execution_count": null,
   "id": "9ecf7964",
   "metadata": {},
   "outputs": [],
   "source": [
    "cols=['mainroad','guestroom','basement','hotwaterheating','airconditioning','prefarea','furnishingstatus']\n",
    "le=LabelEncoder()\n",
    "for col in cols:\n",
    "    house_dataset[col]=le.fit_transform(house_dataset[col])"
   ]
  },
  {
   "cell_type": "markdown",
   "id": "5bd80c2f",
   "metadata": {},
   "source": [
    "## Spreate X and y and train test."
   ]
  },
  {
   "cell_type": "code",
   "execution_count": null,
   "id": "734f74ac",
   "metadata": {},
   "outputs": [],
   "source": [
    "X=house_dataset.drop('price',axis=1)\n",
    "y=house_dataset['price']\n",
    "X_train, X_test, y_train, y_test = train_test_split(X, y, test_size=0.33, random_state=42)"
   ]
  },
  {
   "cell_type": "markdown",
   "id": "031d241b",
   "metadata": {},
   "source": [
    "## Use leiner regration model"
   ]
  },
  {
   "cell_type": "code",
   "execution_count": null,
   "id": "a756d35b",
   "metadata": {},
   "outputs": [],
   "source": [
    "model=LinearRegression().fit(X_train,y_train)"
   ]
  },
  {
   "cell_type": "markdown",
   "id": "252d7cfc",
   "metadata": {},
   "source": [
    "## Product the result"
   ]
  },
  {
   "cell_type": "code",
   "execution_count": null,
   "id": "573e9b49",
   "metadata": {},
   "outputs": [],
   "source": [
    "predictions=model.predict(X_test)"
   ]
  },
  {
   "cell_type": "markdown",
   "id": "9b224948",
   "metadata": {},
   "source": [
    "## Visulaie the data"
   ]
  },
  {
   "cell_type": "code",
   "execution_count": null,
   "id": "14f589cb",
   "metadata": {},
   "outputs": [],
   "source": [
    "plt.scatter(y_test,predictions)\n",
    "plt.show()"
   ]
  },
  {
   "cell_type": "code",
   "execution_count": null,
   "id": "177b0b42",
   "metadata": {},
   "outputs": [],
   "source": [
    "predictions"
   ]
  },
  {
   "cell_type": "code",
   "execution_count": null,
   "id": "2cc9ef5e",
   "metadata": {},
   "outputs": [],
   "source": []
  },
  {
   "cell_type": "code",
   "execution_count": null,
   "id": "eac6b673",
   "metadata": {},
   "outputs": [],
   "source": []
  },
  {
   "cell_type": "code",
   "execution_count": null,
   "id": "b7696ac1",
   "metadata": {},
   "outputs": [],
   "source": []
  },
  {
   "cell_type": "code",
   "execution_count": null,
   "id": "7e161844",
   "metadata": {},
   "outputs": [],
   "source": []
  },
  {
   "cell_type": "code",
   "execution_count": null,
   "id": "61357429",
   "metadata": {},
   "outputs": [],
   "source": []
  },
  {
   "cell_type": "code",
   "execution_count": null,
   "id": "a44afc52",
   "metadata": {},
   "outputs": [],
   "source": []
  },
  {
   "cell_type": "code",
   "execution_count": null,
   "id": "7bf8a57c",
   "metadata": {},
   "outputs": [],
   "source": []
  },
  {
   "cell_type": "code",
   "execution_count": null,
   "id": "c6fb00eb",
   "metadata": {},
   "outputs": [],
   "source": []
  }
 ],
 "metadata": {
  "kernelspec": {
   "display_name": "Python 3 (ipykernel)",
   "language": "python",
   "name": "python3"
  },
  "language_info": {
   "codemirror_mode": {
    "name": "ipython",
    "version": 3
   },
   "file_extension": ".py",
   "mimetype": "text/x-python",
   "name": "python",
   "nbconvert_exporter": "python",
   "pygments_lexer": "ipython3",
   "version": "3.11.4"
  }
 },
 "nbformat": 4,
 "nbformat_minor": 5
}
